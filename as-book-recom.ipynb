{
 "cells": [
  {
   "cell_type": "code",
   "execution_count": 1,
   "id": "25cafad2",
   "metadata": {
    "_cell_guid": "b1076dfc-b9ad-4769-8c92-a6c4dae69d19",
    "_uuid": "8f2839f25d086af736a60e9eeb907d3b93b6e0e5",
    "execution": {
     "iopub.execute_input": "2024-12-17T07:54:24.110451Z",
     "iopub.status.busy": "2024-12-17T07:54:24.110045Z",
     "iopub.status.idle": "2024-12-17T07:54:25.025149Z",
     "shell.execute_reply": "2024-12-17T07:54:25.023934Z"
    },
    "papermill": {
     "duration": 0.93266,
     "end_time": "2024-12-17T07:54:25.027722",
     "exception": false,
     "start_time": "2024-12-17T07:54:24.095062",
     "status": "completed"
    },
    "tags": []
   },
   "outputs": [
    {
     "name": "stdout",
     "output_type": "stream",
     "text": [
      "/kaggle/input/book-recommendation-dataset/Ratings.csv\n",
      "/kaggle/input/book-recommendation-dataset/Users.csv\n",
      "/kaggle/input/book-recommendation-dataset/classicRec.png\n",
      "/kaggle/input/book-recommendation-dataset/Books.csv\n",
      "/kaggle/input/book-recommendation-dataset/DeepRec.png\n",
      "/kaggle/input/book-recommendation-dataset/recsys_taxonomy2.png\n"
     ]
    }
   ],
   "source": [
    "# This Python 3 environment comes with many helpful analytics libraries installed\n",
    "# It is defined by the kaggle/python Docker image: https://github.com/kaggle/docker-python\n",
    "# For example, here's several helpful packages to load\n",
    "\n",
    "import numpy as np # linear algebra\n",
    "import pandas as pd # data processing, CSV file I/O (e.g. pd.read_csv)\n",
    "\n",
    "# Input data files are available in the read-only \"../input/\" directory\n",
    "# For example, running this (by clicking run or pressing Shift+Enter) will list all files under the input directory\n",
    "\n",
    "import os\n",
    "for dirname, _, filenames in os.walk('/kaggle/input'):\n",
    "    for filename in filenames:\n",
    "        print(os.path.join(dirname, filename))\n",
    "\n",
    "# You can write up to 20GB to the current directory (/kaggle/working/) that gets preserved as output when you create a version using \"Save & Run All\" \n",
    "# You can also write temporary files to /kaggle/temp/, but they won't be saved outside of the current session"
   ]
  },
  {
   "cell_type": "code",
   "execution_count": 2,
   "id": "5d138265",
   "metadata": {
    "execution": {
     "iopub.execute_input": "2024-12-17T07:54:25.053179Z",
     "iopub.status.busy": "2024-12-17T07:54:25.052613Z",
     "iopub.status.idle": "2024-12-17T07:54:25.060646Z",
     "shell.execute_reply": "2024-12-17T07:54:25.059474Z"
    },
    "papermill": {
     "duration": 0.023056,
     "end_time": "2024-12-17T07:54:25.062667",
     "exception": false,
     "start_time": "2024-12-17T07:54:25.039611",
     "status": "completed"
    },
    "tags": []
   },
   "outputs": [
    {
     "data": {
      "text/plain": [
       "b'/kaggle/working'"
      ]
     },
     "execution_count": 2,
     "metadata": {},
     "output_type": "execute_result"
    }
   ],
   "source": [
    "os.getcwdb()"
   ]
  },
  {
   "cell_type": "markdown",
   "id": "806e6b6c",
   "metadata": {
    "papermill": {
     "duration": 0.011355,
     "end_time": "2024-12-17T07:54:25.085822",
     "exception": false,
     "start_time": "2024-12-17T07:54:25.074467",
     "status": "completed"
    },
    "tags": []
   },
   "source": [
    "### Content based Recommendation system"
   ]
  },
  {
   "cell_type": "code",
   "execution_count": 3,
   "id": "a34683ee",
   "metadata": {
    "execution": {
     "iopub.execute_input": "2024-12-17T07:54:25.111115Z",
     "iopub.status.busy": "2024-12-17T07:54:25.110369Z",
     "iopub.status.idle": "2024-12-17T07:54:26.863553Z",
     "shell.execute_reply": "2024-12-17T07:54:26.862357Z"
    },
    "papermill": {
     "duration": 1.768533,
     "end_time": "2024-12-17T07:54:26.866044",
     "exception": false,
     "start_time": "2024-12-17T07:54:25.097511",
     "status": "completed"
    },
    "tags": []
   },
   "outputs": [],
   "source": [
    "import matplotlib as plt\n",
    "import seaborn as sns"
   ]
  },
  {
   "cell_type": "code",
   "execution_count": 4,
   "id": "6c24e06b",
   "metadata": {
    "execution": {
     "iopub.execute_input": "2024-12-17T07:54:26.892933Z",
     "iopub.status.busy": "2024-12-17T07:54:26.892328Z",
     "iopub.status.idle": "2024-12-17T07:54:27.930910Z",
     "shell.execute_reply": "2024-12-17T07:54:27.929393Z"
    },
    "papermill": {
     "duration": 1.055373,
     "end_time": "2024-12-17T07:54:27.933535",
     "exception": false,
     "start_time": "2024-12-17T07:54:26.878162",
     "status": "completed"
    },
    "tags": []
   },
   "outputs": [],
   "source": [
    "rating= pd.read_csv(r'/kaggle/input/book-recommendation-dataset/Ratings.csv')"
   ]
  },
  {
   "cell_type": "code",
   "execution_count": 5,
   "id": "d08add67",
   "metadata": {
    "execution": {
     "iopub.execute_input": "2024-12-17T07:54:27.958774Z",
     "iopub.status.busy": "2024-12-17T07:54:27.958426Z",
     "iopub.status.idle": "2024-12-17T07:54:27.977503Z",
     "shell.execute_reply": "2024-12-17T07:54:27.976247Z"
    },
    "papermill": {
     "duration": 0.034524,
     "end_time": "2024-12-17T07:54:27.980098",
     "exception": false,
     "start_time": "2024-12-17T07:54:27.945574",
     "status": "completed"
    },
    "tags": []
   },
   "outputs": [
    {
     "data": {
      "text/html": [
       "<div>\n",
       "<style scoped>\n",
       "    .dataframe tbody tr th:only-of-type {\n",
       "        vertical-align: middle;\n",
       "    }\n",
       "\n",
       "    .dataframe tbody tr th {\n",
       "        vertical-align: top;\n",
       "    }\n",
       "\n",
       "    .dataframe thead th {\n",
       "        text-align: right;\n",
       "    }\n",
       "</style>\n",
       "<table border=\"1\" class=\"dataframe\">\n",
       "  <thead>\n",
       "    <tr style=\"text-align: right;\">\n",
       "      <th></th>\n",
       "      <th>User-ID</th>\n",
       "      <th>ISBN</th>\n",
       "      <th>Book-Rating</th>\n",
       "    </tr>\n",
       "  </thead>\n",
       "  <tbody>\n",
       "    <tr>\n",
       "      <th>0</th>\n",
       "      <td>276725</td>\n",
       "      <td>034545104X</td>\n",
       "      <td>0</td>\n",
       "    </tr>\n",
       "    <tr>\n",
       "      <th>1</th>\n",
       "      <td>276726</td>\n",
       "      <td>0155061224</td>\n",
       "      <td>5</td>\n",
       "    </tr>\n",
       "    <tr>\n",
       "      <th>2</th>\n",
       "      <td>276727</td>\n",
       "      <td>0446520802</td>\n",
       "      <td>0</td>\n",
       "    </tr>\n",
       "    <tr>\n",
       "      <th>3</th>\n",
       "      <td>276729</td>\n",
       "      <td>052165615X</td>\n",
       "      <td>3</td>\n",
       "    </tr>\n",
       "    <tr>\n",
       "      <th>4</th>\n",
       "      <td>276729</td>\n",
       "      <td>0521795028</td>\n",
       "      <td>6</td>\n",
       "    </tr>\n",
       "  </tbody>\n",
       "</table>\n",
       "</div>"
      ],
      "text/plain": [
       "   User-ID        ISBN  Book-Rating\n",
       "0   276725  034545104X            0\n",
       "1   276726  0155061224            5\n",
       "2   276727  0446520802            0\n",
       "3   276729  052165615X            3\n",
       "4   276729  0521795028            6"
      ]
     },
     "execution_count": 5,
     "metadata": {},
     "output_type": "execute_result"
    }
   ],
   "source": [
    "rating.head()"
   ]
  },
  {
   "cell_type": "code",
   "execution_count": 6,
   "id": "6f1d3522",
   "metadata": {
    "execution": {
     "iopub.execute_input": "2024-12-17T07:54:28.006237Z",
     "iopub.status.busy": "2024-12-17T07:54:28.005836Z",
     "iopub.status.idle": "2024-12-17T07:54:28.337293Z",
     "shell.execute_reply": "2024-12-17T07:54:28.336166Z"
    },
    "papermill": {
     "duration": 0.347084,
     "end_time": "2024-12-17T07:54:28.339319",
     "exception": false,
     "start_time": "2024-12-17T07:54:27.992235",
     "status": "completed"
    },
    "tags": []
   },
   "outputs": [
    {
     "data": {
      "text/html": [
       "<div>\n",
       "<style scoped>\n",
       "    .dataframe tbody tr th:only-of-type {\n",
       "        vertical-align: middle;\n",
       "    }\n",
       "\n",
       "    .dataframe tbody tr th {\n",
       "        vertical-align: top;\n",
       "    }\n",
       "\n",
       "    .dataframe thead th {\n",
       "        text-align: right;\n",
       "    }\n",
       "</style>\n",
       "<table border=\"1\" class=\"dataframe\">\n",
       "  <thead>\n",
       "    <tr style=\"text-align: right;\">\n",
       "      <th></th>\n",
       "      <th>User-ID</th>\n",
       "      <th>Location</th>\n",
       "      <th>Age</th>\n",
       "    </tr>\n",
       "  </thead>\n",
       "  <tbody>\n",
       "    <tr>\n",
       "      <th>0</th>\n",
       "      <td>1</td>\n",
       "      <td>nyc, new york, usa</td>\n",
       "      <td>NaN</td>\n",
       "    </tr>\n",
       "    <tr>\n",
       "      <th>1</th>\n",
       "      <td>2</td>\n",
       "      <td>stockton, california, usa</td>\n",
       "      <td>18.0</td>\n",
       "    </tr>\n",
       "    <tr>\n",
       "      <th>2</th>\n",
       "      <td>3</td>\n",
       "      <td>moscow, yukon territory, russia</td>\n",
       "      <td>NaN</td>\n",
       "    </tr>\n",
       "    <tr>\n",
       "      <th>3</th>\n",
       "      <td>4</td>\n",
       "      <td>porto, v.n.gaia, portugal</td>\n",
       "      <td>17.0</td>\n",
       "    </tr>\n",
       "    <tr>\n",
       "      <th>4</th>\n",
       "      <td>5</td>\n",
       "      <td>farnborough, hants, united kingdom</td>\n",
       "      <td>NaN</td>\n",
       "    </tr>\n",
       "  </tbody>\n",
       "</table>\n",
       "</div>"
      ],
      "text/plain": [
       "   User-ID                            Location   Age\n",
       "0        1                  nyc, new york, usa   NaN\n",
       "1        2           stockton, california, usa  18.0\n",
       "2        3     moscow, yukon territory, russia   NaN\n",
       "3        4           porto, v.n.gaia, portugal  17.0\n",
       "4        5  farnborough, hants, united kingdom   NaN"
      ]
     },
     "execution_count": 6,
     "metadata": {},
     "output_type": "execute_result"
    }
   ],
   "source": [
    "users= pd.read_csv(r'/kaggle/input/book-recommendation-dataset/Users.csv')\n",
    "users.head()"
   ]
  },
  {
   "cell_type": "code",
   "execution_count": 7,
   "id": "8d852c9e",
   "metadata": {
    "execution": {
     "iopub.execute_input": "2024-12-17T07:54:28.365143Z",
     "iopub.status.busy": "2024-12-17T07:54:28.364741Z",
     "iopub.status.idle": "2024-12-17T07:54:31.083865Z",
     "shell.execute_reply": "2024-12-17T07:54:31.082692Z"
    },
    "papermill": {
     "duration": 2.734991,
     "end_time": "2024-12-17T07:54:31.086393",
     "exception": false,
     "start_time": "2024-12-17T07:54:28.351402",
     "status": "completed"
    },
    "tags": []
   },
   "outputs": [
    {
     "name": "stderr",
     "output_type": "stream",
     "text": [
      "/tmp/ipykernel_17/2189789844.py:1: DtypeWarning: Columns (3) have mixed types. Specify dtype option on import or set low_memory=False.\n",
      "  books= pd.read_csv(r'/kaggle/input/book-recommendation-dataset/Books.csv')\n"
     ]
    },
    {
     "data": {
      "text/html": [
       "<div>\n",
       "<style scoped>\n",
       "    .dataframe tbody tr th:only-of-type {\n",
       "        vertical-align: middle;\n",
       "    }\n",
       "\n",
       "    .dataframe tbody tr th {\n",
       "        vertical-align: top;\n",
       "    }\n",
       "\n",
       "    .dataframe thead th {\n",
       "        text-align: right;\n",
       "    }\n",
       "</style>\n",
       "<table border=\"1\" class=\"dataframe\">\n",
       "  <thead>\n",
       "    <tr style=\"text-align: right;\">\n",
       "      <th></th>\n",
       "      <th>ISBN</th>\n",
       "      <th>Book-Title</th>\n",
       "      <th>Book-Author</th>\n",
       "      <th>Year-Of-Publication</th>\n",
       "      <th>Publisher</th>\n",
       "      <th>Image-URL-S</th>\n",
       "      <th>Image-URL-M</th>\n",
       "      <th>Image-URL-L</th>\n",
       "    </tr>\n",
       "  </thead>\n",
       "  <tbody>\n",
       "    <tr>\n",
       "      <th>0</th>\n",
       "      <td>0195153448</td>\n",
       "      <td>Classical Mythology</td>\n",
       "      <td>Mark P. O. Morford</td>\n",
       "      <td>2002</td>\n",
       "      <td>Oxford University Press</td>\n",
       "      <td>http://images.amazon.com/images/P/0195153448.0...</td>\n",
       "      <td>http://images.amazon.com/images/P/0195153448.0...</td>\n",
       "      <td>http://images.amazon.com/images/P/0195153448.0...</td>\n",
       "    </tr>\n",
       "    <tr>\n",
       "      <th>1</th>\n",
       "      <td>0002005018</td>\n",
       "      <td>Clara Callan</td>\n",
       "      <td>Richard Bruce Wright</td>\n",
       "      <td>2001</td>\n",
       "      <td>HarperFlamingo Canada</td>\n",
       "      <td>http://images.amazon.com/images/P/0002005018.0...</td>\n",
       "      <td>http://images.amazon.com/images/P/0002005018.0...</td>\n",
       "      <td>http://images.amazon.com/images/P/0002005018.0...</td>\n",
       "    </tr>\n",
       "    <tr>\n",
       "      <th>2</th>\n",
       "      <td>0060973129</td>\n",
       "      <td>Decision in Normandy</td>\n",
       "      <td>Carlo D'Este</td>\n",
       "      <td>1991</td>\n",
       "      <td>HarperPerennial</td>\n",
       "      <td>http://images.amazon.com/images/P/0060973129.0...</td>\n",
       "      <td>http://images.amazon.com/images/P/0060973129.0...</td>\n",
       "      <td>http://images.amazon.com/images/P/0060973129.0...</td>\n",
       "    </tr>\n",
       "    <tr>\n",
       "      <th>3</th>\n",
       "      <td>0374157065</td>\n",
       "      <td>Flu: The Story of the Great Influenza Pandemic...</td>\n",
       "      <td>Gina Bari Kolata</td>\n",
       "      <td>1999</td>\n",
       "      <td>Farrar Straus Giroux</td>\n",
       "      <td>http://images.amazon.com/images/P/0374157065.0...</td>\n",
       "      <td>http://images.amazon.com/images/P/0374157065.0...</td>\n",
       "      <td>http://images.amazon.com/images/P/0374157065.0...</td>\n",
       "    </tr>\n",
       "    <tr>\n",
       "      <th>4</th>\n",
       "      <td>0393045218</td>\n",
       "      <td>The Mummies of Urumchi</td>\n",
       "      <td>E. J. W. Barber</td>\n",
       "      <td>1999</td>\n",
       "      <td>W. W. Norton &amp;amp; Company</td>\n",
       "      <td>http://images.amazon.com/images/P/0393045218.0...</td>\n",
       "      <td>http://images.amazon.com/images/P/0393045218.0...</td>\n",
       "      <td>http://images.amazon.com/images/P/0393045218.0...</td>\n",
       "    </tr>\n",
       "  </tbody>\n",
       "</table>\n",
       "</div>"
      ],
      "text/plain": [
       "         ISBN                                         Book-Title  \\\n",
       "0  0195153448                                Classical Mythology   \n",
       "1  0002005018                                       Clara Callan   \n",
       "2  0060973129                               Decision in Normandy   \n",
       "3  0374157065  Flu: The Story of the Great Influenza Pandemic...   \n",
       "4  0393045218                             The Mummies of Urumchi   \n",
       "\n",
       "            Book-Author Year-Of-Publication                   Publisher  \\\n",
       "0    Mark P. O. Morford                2002     Oxford University Press   \n",
       "1  Richard Bruce Wright                2001       HarperFlamingo Canada   \n",
       "2          Carlo D'Este                1991             HarperPerennial   \n",
       "3      Gina Bari Kolata                1999        Farrar Straus Giroux   \n",
       "4       E. J. W. Barber                1999  W. W. Norton &amp; Company   \n",
       "\n",
       "                                         Image-URL-S  \\\n",
       "0  http://images.amazon.com/images/P/0195153448.0...   \n",
       "1  http://images.amazon.com/images/P/0002005018.0...   \n",
       "2  http://images.amazon.com/images/P/0060973129.0...   \n",
       "3  http://images.amazon.com/images/P/0374157065.0...   \n",
       "4  http://images.amazon.com/images/P/0393045218.0...   \n",
       "\n",
       "                                         Image-URL-M  \\\n",
       "0  http://images.amazon.com/images/P/0195153448.0...   \n",
       "1  http://images.amazon.com/images/P/0002005018.0...   \n",
       "2  http://images.amazon.com/images/P/0060973129.0...   \n",
       "3  http://images.amazon.com/images/P/0374157065.0...   \n",
       "4  http://images.amazon.com/images/P/0393045218.0...   \n",
       "\n",
       "                                         Image-URL-L  \n",
       "0  http://images.amazon.com/images/P/0195153448.0...  \n",
       "1  http://images.amazon.com/images/P/0002005018.0...  \n",
       "2  http://images.amazon.com/images/P/0060973129.0...  \n",
       "3  http://images.amazon.com/images/P/0374157065.0...  \n",
       "4  http://images.amazon.com/images/P/0393045218.0...  "
      ]
     },
     "execution_count": 7,
     "metadata": {},
     "output_type": "execute_result"
    }
   ],
   "source": [
    "books= pd.read_csv(r'/kaggle/input/book-recommendation-dataset/Books.csv')\n",
    "books.head()"
   ]
  },
  {
   "cell_type": "code",
   "execution_count": 8,
   "id": "a650f370",
   "metadata": {
    "execution": {
     "iopub.execute_input": "2024-12-17T07:54:31.112643Z",
     "iopub.status.busy": "2024-12-17T07:54:31.112244Z",
     "iopub.status.idle": "2024-12-17T07:54:31.118368Z",
     "shell.execute_reply": "2024-12-17T07:54:31.117185Z"
    },
    "papermill": {
     "duration": 0.022062,
     "end_time": "2024-12-17T07:54:31.120673",
     "exception": false,
     "start_time": "2024-12-17T07:54:31.098611",
     "status": "completed"
    },
    "tags": []
   },
   "outputs": [
    {
     "name": "stdout",
     "output_type": "stream",
     "text": [
      "books count- (271360, 8)\n",
      "users count-(278858, 3)\n",
      "ratings count- (1149780, 3)\n"
     ]
    }
   ],
   "source": [
    "print(f'books count- {books.shape}')\n",
    "print(f'users count-{users.shape}')\n",
    "print(f'ratings count- {rating.shape}')"
   ]
  },
  {
   "cell_type": "code",
   "execution_count": 9,
   "id": "df995bc8",
   "metadata": {
    "execution": {
     "iopub.execute_input": "2024-12-17T07:54:31.147371Z",
     "iopub.status.busy": "2024-12-17T07:54:31.146945Z",
     "iopub.status.idle": "2024-12-17T07:54:31.267107Z",
     "shell.execute_reply": "2024-12-17T07:54:31.265963Z"
    },
    "papermill": {
     "duration": 0.135906,
     "end_time": "2024-12-17T07:54:31.269274",
     "exception": false,
     "start_time": "2024-12-17T07:54:31.133368",
     "status": "completed"
    },
    "tags": []
   },
   "outputs": [
    {
     "data": {
      "text/plain": [
       "ISBN                   0\n",
       "Book-Title             0\n",
       "Book-Author            2\n",
       "Year-Of-Publication    0\n",
       "Publisher              2\n",
       "Image-URL-S            0\n",
       "Image-URL-M            0\n",
       "Image-URL-L            3\n",
       "dtype: int64"
      ]
     },
     "execution_count": 9,
     "metadata": {},
     "output_type": "execute_result"
    }
   ],
   "source": [
    "books.isna().sum()"
   ]
  },
  {
   "cell_type": "code",
   "execution_count": 10,
   "id": "3aeb47a5",
   "metadata": {
    "execution": {
     "iopub.execute_input": "2024-12-17T07:54:31.296143Z",
     "iopub.status.busy": "2024-12-17T07:54:31.295700Z",
     "iopub.status.idle": "2024-12-17T07:54:31.323525Z",
     "shell.execute_reply": "2024-12-17T07:54:31.322426Z"
    },
    "papermill": {
     "duration": 0.043997,
     "end_time": "2024-12-17T07:54:31.325796",
     "exception": false,
     "start_time": "2024-12-17T07:54:31.281799",
     "status": "completed"
    },
    "tags": []
   },
   "outputs": [
    {
     "data": {
      "text/plain": [
       "User-ID          0\n",
       "Location         0\n",
       "Age         110762\n",
       "dtype: int64"
      ]
     },
     "execution_count": 10,
     "metadata": {},
     "output_type": "execute_result"
    }
   ],
   "source": [
    "users.isna().sum() # total count- 278858"
   ]
  },
  {
   "cell_type": "code",
   "execution_count": 11,
   "id": "2996968a",
   "metadata": {
    "execution": {
     "iopub.execute_input": "2024-12-17T07:54:31.352588Z",
     "iopub.status.busy": "2024-12-17T07:54:31.352231Z",
     "iopub.status.idle": "2024-12-17T07:54:31.441325Z",
     "shell.execute_reply": "2024-12-17T07:54:31.440244Z"
    },
    "papermill": {
     "duration": 0.105142,
     "end_time": "2024-12-17T07:54:31.443576",
     "exception": false,
     "start_time": "2024-12-17T07:54:31.338434",
     "status": "completed"
    },
    "tags": []
   },
   "outputs": [
    {
     "data": {
      "text/plain": [
       "User-ID        0\n",
       "ISBN           0\n",
       "Book-Rating    0\n",
       "dtype: int64"
      ]
     },
     "execution_count": 11,
     "metadata": {},
     "output_type": "execute_result"
    }
   ],
   "source": [
    "rating.isna().sum() # total count- 1149780"
   ]
  },
  {
   "cell_type": "markdown",
   "id": "4bd4306f",
   "metadata": {
    "papermill": {
     "duration": 0.012296,
     "end_time": "2024-12-17T07:54:31.468642",
     "exception": false,
     "start_time": "2024-12-17T07:54:31.456346",
     "status": "completed"
    },
    "tags": []
   },
   "source": [
    "#### Pre-processing"
   ]
  },
  {
   "cell_type": "code",
   "execution_count": 12,
   "id": "86108ade",
   "metadata": {
    "execution": {
     "iopub.execute_input": "2024-12-17T07:54:31.495647Z",
     "iopub.status.busy": "2024-12-17T07:54:31.495256Z",
     "iopub.status.idle": "2024-12-17T07:54:32.476434Z",
     "shell.execute_reply": "2024-12-17T07:54:32.475224Z"
    },
    "papermill": {
     "duration": 0.997732,
     "end_time": "2024-12-17T07:54:32.478984",
     "exception": false,
     "start_time": "2024-12-17T07:54:31.481252",
     "status": "completed"
    },
    "tags": []
   },
   "outputs": [
    {
     "name": "stdout",
     "output_type": "stream",
     "text": [
      " duplicate books- 0\n",
      " duplicate users- 0\n",
      " duplicate rating- 0\n"
     ]
    }
   ],
   "source": [
    "print(f' duplicate books- {books.duplicated().sum()}')\n",
    "print(f' duplicate users- {users.duplicated().sum()}')\n",
    "print(f' duplicate rating- {rating.duplicated().sum()}')"
   ]
  },
  {
   "cell_type": "markdown",
   "id": "fc88ee42",
   "metadata": {
    "papermill": {
     "duration": 0.01215,
     "end_time": "2024-12-17T07:54:32.503868",
     "exception": false,
     "start_time": "2024-12-17T07:54:32.491718",
     "status": "completed"
    },
    "tags": []
   },
   "source": [
    "### EDA"
   ]
  },
  {
   "cell_type": "code",
   "execution_count": 13,
   "id": "781d6f8a",
   "metadata": {
    "execution": {
     "iopub.execute_input": "2024-12-17T07:54:32.530498Z",
     "iopub.status.busy": "2024-12-17T07:54:32.530121Z",
     "iopub.status.idle": "2024-12-17T07:54:34.127664Z",
     "shell.execute_reply": "2024-12-17T07:54:34.126646Z"
    },
    "papermill": {
     "duration": 1.613674,
     "end_time": "2024-12-17T07:54:34.130073",
     "exception": false,
     "start_time": "2024-12-17T07:54:32.516399",
     "status": "completed"
    },
    "tags": []
   },
   "outputs": [
    {
     "data": {
      "text/html": [
       "<div>\n",
       "<style scoped>\n",
       "    .dataframe tbody tr th:only-of-type {\n",
       "        vertical-align: middle;\n",
       "    }\n",
       "\n",
       "    .dataframe tbody tr th {\n",
       "        vertical-align: top;\n",
       "    }\n",
       "\n",
       "    .dataframe thead th {\n",
       "        text-align: right;\n",
       "    }\n",
       "</style>\n",
       "<table border=\"1\" class=\"dataframe\">\n",
       "  <thead>\n",
       "    <tr style=\"text-align: right;\">\n",
       "      <th></th>\n",
       "      <th>ISBN</th>\n",
       "      <th>Book-Title</th>\n",
       "      <th>Book-Author</th>\n",
       "      <th>Year-Of-Publication</th>\n",
       "      <th>Publisher</th>\n",
       "      <th>Image-URL-S</th>\n",
       "      <th>Image-URL-M</th>\n",
       "      <th>Image-URL-L</th>\n",
       "    </tr>\n",
       "  </thead>\n",
       "  <tbody>\n",
       "    <tr>\n",
       "      <th>count</th>\n",
       "      <td>271360</td>\n",
       "      <td>271360</td>\n",
       "      <td>271358</td>\n",
       "      <td>271360</td>\n",
       "      <td>271358</td>\n",
       "      <td>271360</td>\n",
       "      <td>271360</td>\n",
       "      <td>271357</td>\n",
       "    </tr>\n",
       "    <tr>\n",
       "      <th>unique</th>\n",
       "      <td>271360</td>\n",
       "      <td>242135</td>\n",
       "      <td>102022</td>\n",
       "      <td>202</td>\n",
       "      <td>16807</td>\n",
       "      <td>271044</td>\n",
       "      <td>271044</td>\n",
       "      <td>271041</td>\n",
       "    </tr>\n",
       "    <tr>\n",
       "      <th>top</th>\n",
       "      <td>0195153448</td>\n",
       "      <td>Selected Poems</td>\n",
       "      <td>Agatha Christie</td>\n",
       "      <td>2002</td>\n",
       "      <td>Harlequin</td>\n",
       "      <td>http://images.amazon.com/images/P/185326119X.0...</td>\n",
       "      <td>http://images.amazon.com/images/P/185326119X.0...</td>\n",
       "      <td>http://images.amazon.com/images/P/225307649X.0...</td>\n",
       "    </tr>\n",
       "    <tr>\n",
       "      <th>freq</th>\n",
       "      <td>1</td>\n",
       "      <td>27</td>\n",
       "      <td>632</td>\n",
       "      <td>13903</td>\n",
       "      <td>7535</td>\n",
       "      <td>2</td>\n",
       "      <td>2</td>\n",
       "      <td>2</td>\n",
       "    </tr>\n",
       "  </tbody>\n",
       "</table>\n",
       "</div>"
      ],
      "text/plain": [
       "              ISBN      Book-Title      Book-Author  Year-Of-Publication  \\\n",
       "count       271360          271360           271358               271360   \n",
       "unique      271360          242135           102022                  202   \n",
       "top     0195153448  Selected Poems  Agatha Christie                 2002   \n",
       "freq             1              27              632                13903   \n",
       "\n",
       "        Publisher                                        Image-URL-S  \\\n",
       "count      271358                                             271360   \n",
       "unique      16807                                             271044   \n",
       "top     Harlequin  http://images.amazon.com/images/P/185326119X.0...   \n",
       "freq         7535                                                  2   \n",
       "\n",
       "                                              Image-URL-M  \\\n",
       "count                                              271360   \n",
       "unique                                             271044   \n",
       "top     http://images.amazon.com/images/P/185326119X.0...   \n",
       "freq                                                    2   \n",
       "\n",
       "                                              Image-URL-L  \n",
       "count                                              271357  \n",
       "unique                                             271041  \n",
       "top     http://images.amazon.com/images/P/225307649X.0...  \n",
       "freq                                                    2  "
      ]
     },
     "execution_count": 13,
     "metadata": {},
     "output_type": "execute_result"
    }
   ],
   "source": [
    "books.describe()"
   ]
  },
  {
   "cell_type": "code",
   "execution_count": 14,
   "id": "2dbee9f9",
   "metadata": {
    "execution": {
     "iopub.execute_input": "2024-12-17T07:54:34.157697Z",
     "iopub.status.busy": "2024-12-17T07:54:34.157305Z",
     "iopub.status.idle": "2024-12-17T07:54:34.283023Z",
     "shell.execute_reply": "2024-12-17T07:54:34.281718Z"
    },
    "papermill": {
     "duration": 0.141821,
     "end_time": "2024-12-17T07:54:34.285157",
     "exception": false,
     "start_time": "2024-12-17T07:54:34.143336",
     "status": "completed"
    },
    "tags": []
   },
   "outputs": [
    {
     "name": "stdout",
     "output_type": "stream",
     "text": [
      "<class 'pandas.core.frame.DataFrame'>\n",
      "RangeIndex: 271360 entries, 0 to 271359\n",
      "Data columns (total 8 columns):\n",
      " #   Column               Non-Null Count   Dtype \n",
      "---  ------               --------------   ----- \n",
      " 0   ISBN                 271360 non-null  object\n",
      " 1   Book-Title           271360 non-null  object\n",
      " 2   Book-Author          271358 non-null  object\n",
      " 3   Year-Of-Publication  271360 non-null  object\n",
      " 4   Publisher            271358 non-null  object\n",
      " 5   Image-URL-S          271360 non-null  object\n",
      " 6   Image-URL-M          271360 non-null  object\n",
      " 7   Image-URL-L          271357 non-null  object\n",
      "dtypes: object(8)\n",
      "memory usage: 16.6+ MB\n"
     ]
    }
   ],
   "source": [
    "books.info()"
   ]
  },
  {
   "cell_type": "code",
   "execution_count": 15,
   "id": "664c458b",
   "metadata": {
    "execution": {
     "iopub.execute_input": "2024-12-17T07:54:34.312791Z",
     "iopub.status.busy": "2024-12-17T07:54:34.312369Z",
     "iopub.status.idle": "2024-12-17T07:54:34.341586Z",
     "shell.execute_reply": "2024-12-17T07:54:34.340013Z"
    },
    "papermill": {
     "duration": 0.046066,
     "end_time": "2024-12-17T07:54:34.344156",
     "exception": false,
     "start_time": "2024-12-17T07:54:34.298090",
     "status": "completed"
    },
    "tags": []
   },
   "outputs": [
    {
     "name": "stdout",
     "output_type": "stream",
     "text": [
      "<class 'pandas.core.frame.DataFrame'>\n",
      "RangeIndex: 278858 entries, 0 to 278857\n",
      "Data columns (total 3 columns):\n",
      " #   Column    Non-Null Count   Dtype  \n",
      "---  ------    --------------   -----  \n",
      " 0   User-ID   278858 non-null  int64  \n",
      " 1   Location  278858 non-null  object \n",
      " 2   Age       168096 non-null  float64\n",
      "dtypes: float64(1), int64(1), object(1)\n",
      "memory usage: 6.4+ MB\n"
     ]
    }
   ],
   "source": [
    "users.info()"
   ]
  },
  {
   "cell_type": "code",
   "execution_count": 16,
   "id": "24914528",
   "metadata": {
    "execution": {
     "iopub.execute_input": "2024-12-17T07:54:34.372078Z",
     "iopub.status.busy": "2024-12-17T07:54:34.371689Z",
     "iopub.status.idle": "2024-12-17T07:54:34.461013Z",
     "shell.execute_reply": "2024-12-17T07:54:34.459746Z"
    },
    "papermill": {
     "duration": 0.105791,
     "end_time": "2024-12-17T07:54:34.463388",
     "exception": false,
     "start_time": "2024-12-17T07:54:34.357597",
     "status": "completed"
    },
    "tags": []
   },
   "outputs": [
    {
     "name": "stdout",
     "output_type": "stream",
     "text": [
      "<class 'pandas.core.frame.DataFrame'>\n",
      "RangeIndex: 1149780 entries, 0 to 1149779\n",
      "Data columns (total 3 columns):\n",
      " #   Column       Non-Null Count    Dtype \n",
      "---  ------       --------------    ----- \n",
      " 0   User-ID      1149780 non-null  int64 \n",
      " 1   ISBN         1149780 non-null  object\n",
      " 2   Book-Rating  1149780 non-null  int64 \n",
      "dtypes: int64(2), object(1)\n",
      "memory usage: 26.3+ MB\n"
     ]
    }
   ],
   "source": [
    "rating.info()"
   ]
  },
  {
   "cell_type": "code",
   "execution_count": 17,
   "id": "807c2602",
   "metadata": {
    "execution": {
     "iopub.execute_input": "2024-12-17T07:54:34.491289Z",
     "iopub.status.busy": "2024-12-17T07:54:34.490900Z",
     "iopub.status.idle": "2024-12-17T07:54:34.757936Z",
     "shell.execute_reply": "2024-12-17T07:54:34.756829Z"
    },
    "papermill": {
     "duration": 0.284297,
     "end_time": "2024-12-17T07:54:34.760903",
     "exception": false,
     "start_time": "2024-12-17T07:54:34.476606",
     "status": "completed"
    },
    "tags": []
   },
   "outputs": [],
   "source": [
    "user_rating = pd.merge(users, rating, on='User-ID', how='inner')"
   ]
  },
  {
   "cell_type": "code",
   "execution_count": 18,
   "id": "a93aff1a",
   "metadata": {
    "execution": {
     "iopub.execute_input": "2024-12-17T07:54:34.789356Z",
     "iopub.status.busy": "2024-12-17T07:54:34.788991Z",
     "iopub.status.idle": "2024-12-17T07:54:34.800617Z",
     "shell.execute_reply": "2024-12-17T07:54:34.799552Z"
    },
    "papermill": {
     "duration": 0.028285,
     "end_time": "2024-12-17T07:54:34.802760",
     "exception": false,
     "start_time": "2024-12-17T07:54:34.774475",
     "status": "completed"
    },
    "tags": []
   },
   "outputs": [
    {
     "data": {
      "text/html": [
       "<div>\n",
       "<style scoped>\n",
       "    .dataframe tbody tr th:only-of-type {\n",
       "        vertical-align: middle;\n",
       "    }\n",
       "\n",
       "    .dataframe tbody tr th {\n",
       "        vertical-align: top;\n",
       "    }\n",
       "\n",
       "    .dataframe thead th {\n",
       "        text-align: right;\n",
       "    }\n",
       "</style>\n",
       "<table border=\"1\" class=\"dataframe\">\n",
       "  <thead>\n",
       "    <tr style=\"text-align: right;\">\n",
       "      <th></th>\n",
       "      <th>User-ID</th>\n",
       "      <th>Location</th>\n",
       "      <th>Age</th>\n",
       "      <th>ISBN</th>\n",
       "      <th>Book-Rating</th>\n",
       "    </tr>\n",
       "  </thead>\n",
       "  <tbody>\n",
       "    <tr>\n",
       "      <th>0</th>\n",
       "      <td>2</td>\n",
       "      <td>stockton, california, usa</td>\n",
       "      <td>18.0</td>\n",
       "      <td>0195153448</td>\n",
       "      <td>0</td>\n",
       "    </tr>\n",
       "    <tr>\n",
       "      <th>1</th>\n",
       "      <td>7</td>\n",
       "      <td>washington, dc, usa</td>\n",
       "      <td>NaN</td>\n",
       "      <td>034542252</td>\n",
       "      <td>0</td>\n",
       "    </tr>\n",
       "    <tr>\n",
       "      <th>2</th>\n",
       "      <td>8</td>\n",
       "      <td>timmins, ontario, canada</td>\n",
       "      <td>NaN</td>\n",
       "      <td>0002005018</td>\n",
       "      <td>5</td>\n",
       "    </tr>\n",
       "    <tr>\n",
       "      <th>3</th>\n",
       "      <td>8</td>\n",
       "      <td>timmins, ontario, canada</td>\n",
       "      <td>NaN</td>\n",
       "      <td>0060973129</td>\n",
       "      <td>0</td>\n",
       "    </tr>\n",
       "    <tr>\n",
       "      <th>4</th>\n",
       "      <td>8</td>\n",
       "      <td>timmins, ontario, canada</td>\n",
       "      <td>NaN</td>\n",
       "      <td>0374157065</td>\n",
       "      <td>0</td>\n",
       "    </tr>\n",
       "  </tbody>\n",
       "</table>\n",
       "</div>"
      ],
      "text/plain": [
       "   User-ID                   Location   Age        ISBN  Book-Rating\n",
       "0        2  stockton, california, usa  18.0  0195153448            0\n",
       "1        7        washington, dc, usa   NaN   034542252            0\n",
       "2        8   timmins, ontario, canada   NaN  0002005018            5\n",
       "3        8   timmins, ontario, canada   NaN  0060973129            0\n",
       "4        8   timmins, ontario, canada   NaN  0374157065            0"
      ]
     },
     "execution_count": 18,
     "metadata": {},
     "output_type": "execute_result"
    }
   ],
   "source": [
    "user_rating.head()"
   ]
  },
  {
   "cell_type": "code",
   "execution_count": 19,
   "id": "d89acfac",
   "metadata": {
    "execution": {
     "iopub.execute_input": "2024-12-17T07:54:34.831254Z",
     "iopub.status.busy": "2024-12-17T07:54:34.830834Z",
     "iopub.status.idle": "2024-12-17T07:54:34.978130Z",
     "shell.execute_reply": "2024-12-17T07:54:34.976899Z"
    },
    "papermill": {
     "duration": 0.164683,
     "end_time": "2024-12-17T07:54:34.980684",
     "exception": false,
     "start_time": "2024-12-17T07:54:34.816001",
     "status": "completed"
    },
    "tags": []
   },
   "outputs": [
    {
     "name": "stdout",
     "output_type": "stream",
     "text": [
      "<class 'pandas.core.frame.DataFrame'>\n",
      "RangeIndex: 1149780 entries, 0 to 1149779\n",
      "Data columns (total 5 columns):\n",
      " #   Column       Non-Null Count    Dtype  \n",
      "---  ------       --------------    -----  \n",
      " 0   User-ID      1149780 non-null  int64  \n",
      " 1   Location     1149780 non-null  object \n",
      " 2   Age          840288 non-null   float64\n",
      " 3   ISBN         1149780 non-null  object \n",
      " 4   Book-Rating  1149780 non-null  int64  \n",
      "dtypes: float64(1), int64(2), object(2)\n",
      "memory usage: 43.9+ MB\n"
     ]
    }
   ],
   "source": [
    "user_rating.info()"
   ]
  },
  {
   "cell_type": "code",
   "execution_count": 20,
   "id": "ed60a9bf",
   "metadata": {
    "execution": {
     "iopub.execute_input": "2024-12-17T07:54:35.010780Z",
     "iopub.status.busy": "2024-12-17T07:54:35.010383Z",
     "iopub.status.idle": "2024-12-17T07:54:36.270547Z",
     "shell.execute_reply": "2024-12-17T07:54:36.269628Z"
    },
    "papermill": {
     "duration": 1.277738,
     "end_time": "2024-12-17T07:54:36.272957",
     "exception": false,
     "start_time": "2024-12-17T07:54:34.995219",
     "status": "completed"
    },
    "tags": []
   },
   "outputs": [],
   "source": [
    "df = pd.merge(user_rating, books, on='ISBN', how='inner')"
   ]
  },
  {
   "cell_type": "code",
   "execution_count": 21,
   "id": "b26914e8",
   "metadata": {
    "execution": {
     "iopub.execute_input": "2024-12-17T07:54:36.303351Z",
     "iopub.status.busy": "2024-12-17T07:54:36.302934Z",
     "iopub.status.idle": "2024-12-17T07:54:36.318569Z",
     "shell.execute_reply": "2024-12-17T07:54:36.317549Z"
    },
    "papermill": {
     "duration": 0.033074,
     "end_time": "2024-12-17T07:54:36.320803",
     "exception": false,
     "start_time": "2024-12-17T07:54:36.287729",
     "status": "completed"
    },
    "tags": []
   },
   "outputs": [
    {
     "data": {
      "text/html": [
       "<div>\n",
       "<style scoped>\n",
       "    .dataframe tbody tr th:only-of-type {\n",
       "        vertical-align: middle;\n",
       "    }\n",
       "\n",
       "    .dataframe tbody tr th {\n",
       "        vertical-align: top;\n",
       "    }\n",
       "\n",
       "    .dataframe thead th {\n",
       "        text-align: right;\n",
       "    }\n",
       "</style>\n",
       "<table border=\"1\" class=\"dataframe\">\n",
       "  <thead>\n",
       "    <tr style=\"text-align: right;\">\n",
       "      <th></th>\n",
       "      <th>User-ID</th>\n",
       "      <th>Location</th>\n",
       "      <th>Age</th>\n",
       "      <th>ISBN</th>\n",
       "      <th>Book-Rating</th>\n",
       "      <th>Book-Title</th>\n",
       "      <th>Book-Author</th>\n",
       "      <th>Year-Of-Publication</th>\n",
       "      <th>Publisher</th>\n",
       "      <th>Image-URL-S</th>\n",
       "      <th>Image-URL-M</th>\n",
       "      <th>Image-URL-L</th>\n",
       "    </tr>\n",
       "  </thead>\n",
       "  <tbody>\n",
       "    <tr>\n",
       "      <th>0</th>\n",
       "      <td>2</td>\n",
       "      <td>stockton, california, usa</td>\n",
       "      <td>18.0</td>\n",
       "      <td>0195153448</td>\n",
       "      <td>0</td>\n",
       "      <td>Classical Mythology</td>\n",
       "      <td>Mark P. O. Morford</td>\n",
       "      <td>2002</td>\n",
       "      <td>Oxford University Press</td>\n",
       "      <td>http://images.amazon.com/images/P/0195153448.0...</td>\n",
       "      <td>http://images.amazon.com/images/P/0195153448.0...</td>\n",
       "      <td>http://images.amazon.com/images/P/0195153448.0...</td>\n",
       "    </tr>\n",
       "    <tr>\n",
       "      <th>1</th>\n",
       "      <td>8</td>\n",
       "      <td>timmins, ontario, canada</td>\n",
       "      <td>NaN</td>\n",
       "      <td>0002005018</td>\n",
       "      <td>5</td>\n",
       "      <td>Clara Callan</td>\n",
       "      <td>Richard Bruce Wright</td>\n",
       "      <td>2001</td>\n",
       "      <td>HarperFlamingo Canada</td>\n",
       "      <td>http://images.amazon.com/images/P/0002005018.0...</td>\n",
       "      <td>http://images.amazon.com/images/P/0002005018.0...</td>\n",
       "      <td>http://images.amazon.com/images/P/0002005018.0...</td>\n",
       "    </tr>\n",
       "    <tr>\n",
       "      <th>2</th>\n",
       "      <td>8</td>\n",
       "      <td>timmins, ontario, canada</td>\n",
       "      <td>NaN</td>\n",
       "      <td>0060973129</td>\n",
       "      <td>0</td>\n",
       "      <td>Decision in Normandy</td>\n",
       "      <td>Carlo D'Este</td>\n",
       "      <td>1991</td>\n",
       "      <td>HarperPerennial</td>\n",
       "      <td>http://images.amazon.com/images/P/0060973129.0...</td>\n",
       "      <td>http://images.amazon.com/images/P/0060973129.0...</td>\n",
       "      <td>http://images.amazon.com/images/P/0060973129.0...</td>\n",
       "    </tr>\n",
       "    <tr>\n",
       "      <th>3</th>\n",
       "      <td>8</td>\n",
       "      <td>timmins, ontario, canada</td>\n",
       "      <td>NaN</td>\n",
       "      <td>0374157065</td>\n",
       "      <td>0</td>\n",
       "      <td>Flu: The Story of the Great Influenza Pandemic...</td>\n",
       "      <td>Gina Bari Kolata</td>\n",
       "      <td>1999</td>\n",
       "      <td>Farrar Straus Giroux</td>\n",
       "      <td>http://images.amazon.com/images/P/0374157065.0...</td>\n",
       "      <td>http://images.amazon.com/images/P/0374157065.0...</td>\n",
       "      <td>http://images.amazon.com/images/P/0374157065.0...</td>\n",
       "    </tr>\n",
       "    <tr>\n",
       "      <th>4</th>\n",
       "      <td>8</td>\n",
       "      <td>timmins, ontario, canada</td>\n",
       "      <td>NaN</td>\n",
       "      <td>0393045218</td>\n",
       "      <td>0</td>\n",
       "      <td>The Mummies of Urumchi</td>\n",
       "      <td>E. J. W. Barber</td>\n",
       "      <td>1999</td>\n",
       "      <td>W. W. Norton &amp;amp; Company</td>\n",
       "      <td>http://images.amazon.com/images/P/0393045218.0...</td>\n",
       "      <td>http://images.amazon.com/images/P/0393045218.0...</td>\n",
       "      <td>http://images.amazon.com/images/P/0393045218.0...</td>\n",
       "    </tr>\n",
       "  </tbody>\n",
       "</table>\n",
       "</div>"
      ],
      "text/plain": [
       "   User-ID                   Location   Age        ISBN  Book-Rating  \\\n",
       "0        2  stockton, california, usa  18.0  0195153448            0   \n",
       "1        8   timmins, ontario, canada   NaN  0002005018            5   \n",
       "2        8   timmins, ontario, canada   NaN  0060973129            0   \n",
       "3        8   timmins, ontario, canada   NaN  0374157065            0   \n",
       "4        8   timmins, ontario, canada   NaN  0393045218            0   \n",
       "\n",
       "                                          Book-Title           Book-Author  \\\n",
       "0                                Classical Mythology    Mark P. O. Morford   \n",
       "1                                       Clara Callan  Richard Bruce Wright   \n",
       "2                               Decision in Normandy          Carlo D'Este   \n",
       "3  Flu: The Story of the Great Influenza Pandemic...      Gina Bari Kolata   \n",
       "4                             The Mummies of Urumchi       E. J. W. Barber   \n",
       "\n",
       "  Year-Of-Publication                   Publisher  \\\n",
       "0                2002     Oxford University Press   \n",
       "1                2001       HarperFlamingo Canada   \n",
       "2                1991             HarperPerennial   \n",
       "3                1999        Farrar Straus Giroux   \n",
       "4                1999  W. W. Norton &amp; Company   \n",
       "\n",
       "                                         Image-URL-S  \\\n",
       "0  http://images.amazon.com/images/P/0195153448.0...   \n",
       "1  http://images.amazon.com/images/P/0002005018.0...   \n",
       "2  http://images.amazon.com/images/P/0060973129.0...   \n",
       "3  http://images.amazon.com/images/P/0374157065.0...   \n",
       "4  http://images.amazon.com/images/P/0393045218.0...   \n",
       "\n",
       "                                         Image-URL-M  \\\n",
       "0  http://images.amazon.com/images/P/0195153448.0...   \n",
       "1  http://images.amazon.com/images/P/0002005018.0...   \n",
       "2  http://images.amazon.com/images/P/0060973129.0...   \n",
       "3  http://images.amazon.com/images/P/0374157065.0...   \n",
       "4  http://images.amazon.com/images/P/0393045218.0...   \n",
       "\n",
       "                                         Image-URL-L  \n",
       "0  http://images.amazon.com/images/P/0195153448.0...  \n",
       "1  http://images.amazon.com/images/P/0002005018.0...  \n",
       "2  http://images.amazon.com/images/P/0060973129.0...  \n",
       "3  http://images.amazon.com/images/P/0374157065.0...  \n",
       "4  http://images.amazon.com/images/P/0393045218.0...  "
      ]
     },
     "execution_count": 21,
     "metadata": {},
     "output_type": "execute_result"
    }
   ],
   "source": [
    "df.head()"
   ]
  },
  {
   "cell_type": "code",
   "execution_count": 22,
   "id": "3f964112",
   "metadata": {
    "execution": {
     "iopub.execute_input": "2024-12-17T07:54:36.349778Z",
     "iopub.status.busy": "2024-12-17T07:54:36.349405Z",
     "iopub.status.idle": "2024-12-17T07:54:37.150623Z",
     "shell.execute_reply": "2024-12-17T07:54:37.149469Z"
    },
    "papermill": {
     "duration": 0.818414,
     "end_time": "2024-12-17T07:54:37.152937",
     "exception": false,
     "start_time": "2024-12-17T07:54:36.334523",
     "status": "completed"
    },
    "tags": []
   },
   "outputs": [
    {
     "name": "stdout",
     "output_type": "stream",
     "text": [
      "<class 'pandas.core.frame.DataFrame'>\n",
      "RangeIndex: 1031136 entries, 0 to 1031135\n",
      "Data columns (total 12 columns):\n",
      " #   Column               Non-Null Count    Dtype  \n",
      "---  ------               --------------    -----  \n",
      " 0   User-ID              1031136 non-null  int64  \n",
      " 1   Location             1031136 non-null  object \n",
      " 2   Age                  753301 non-null   float64\n",
      " 3   ISBN                 1031136 non-null  object \n",
      " 4   Book-Rating          1031136 non-null  int64  \n",
      " 5   Book-Title           1031136 non-null  object \n",
      " 6   Book-Author          1031134 non-null  object \n",
      " 7   Year-Of-Publication  1031136 non-null  object \n",
      " 8   Publisher            1031134 non-null  object \n",
      " 9   Image-URL-S          1031136 non-null  object \n",
      " 10  Image-URL-M          1031136 non-null  object \n",
      " 11  Image-URL-L          1031132 non-null  object \n",
      "dtypes: float64(1), int64(2), object(9)\n",
      "memory usage: 94.4+ MB\n"
     ]
    }
   ],
   "source": [
    "df.info()"
   ]
  },
  {
   "cell_type": "code",
   "execution_count": 23,
   "id": "aae08b22",
   "metadata": {
    "execution": {
     "iopub.execute_input": "2024-12-17T07:54:37.183313Z",
     "iopub.status.busy": "2024-12-17T07:54:37.182926Z",
     "iopub.status.idle": "2024-12-17T07:54:40.115710Z",
     "shell.execute_reply": "2024-12-17T07:54:40.114810Z"
    },
    "papermill": {
     "duration": 2.951365,
     "end_time": "2024-12-17T07:54:40.118207",
     "exception": false,
     "start_time": "2024-12-17T07:54:37.166842",
     "status": "completed"
    },
    "tags": []
   },
   "outputs": [],
   "source": [
    "df = df.drop_duplicates()"
   ]
  },
  {
   "cell_type": "code",
   "execution_count": 24,
   "id": "f72c7191",
   "metadata": {
    "execution": {
     "iopub.execute_input": "2024-12-17T07:54:40.148344Z",
     "iopub.status.busy": "2024-12-17T07:54:40.147943Z",
     "iopub.status.idle": "2024-12-17T07:54:43.713326Z",
     "shell.execute_reply": "2024-12-17T07:54:43.712188Z"
    },
    "papermill": {
     "duration": 3.583438,
     "end_time": "2024-12-17T07:54:43.715588",
     "exception": false,
     "start_time": "2024-12-17T07:54:40.132150",
     "status": "completed"
    },
    "tags": []
   },
   "outputs": [
    {
     "data": {
      "text/html": [
       "<div>\n",
       "<style scoped>\n",
       "    .dataframe tbody tr th:only-of-type {\n",
       "        vertical-align: middle;\n",
       "    }\n",
       "\n",
       "    .dataframe tbody tr th {\n",
       "        vertical-align: top;\n",
       "    }\n",
       "\n",
       "    .dataframe thead th {\n",
       "        text-align: right;\n",
       "    }\n",
       "</style>\n",
       "<table border=\"1\" class=\"dataframe\">\n",
       "  <thead>\n",
       "    <tr style=\"text-align: right;\">\n",
       "      <th></th>\n",
       "      <th>Location</th>\n",
       "      <th>ISBN</th>\n",
       "      <th>Book-Title</th>\n",
       "      <th>Book-Author</th>\n",
       "      <th>Year-Of-Publication</th>\n",
       "      <th>Publisher</th>\n",
       "      <th>Image-URL-S</th>\n",
       "      <th>Image-URL-M</th>\n",
       "      <th>Image-URL-L</th>\n",
       "    </tr>\n",
       "  </thead>\n",
       "  <tbody>\n",
       "    <tr>\n",
       "      <th>count</th>\n",
       "      <td>1031136</td>\n",
       "      <td>1031136</td>\n",
       "      <td>1031136</td>\n",
       "      <td>1031134</td>\n",
       "      <td>1031136</td>\n",
       "      <td>1031134</td>\n",
       "      <td>1031136</td>\n",
       "      <td>1031136</td>\n",
       "      <td>1031132</td>\n",
       "    </tr>\n",
       "    <tr>\n",
       "      <th>unique</th>\n",
       "      <td>22480</td>\n",
       "      <td>270151</td>\n",
       "      <td>241071</td>\n",
       "      <td>101587</td>\n",
       "      <td>202</td>\n",
       "      <td>16729</td>\n",
       "      <td>269842</td>\n",
       "      <td>269842</td>\n",
       "      <td>269839</td>\n",
       "    </tr>\n",
       "    <tr>\n",
       "      <th>top</th>\n",
       "      <td>toronto, ontario, canada</td>\n",
       "      <td>0971880107</td>\n",
       "      <td>Wild Animus</td>\n",
       "      <td>Stephen King</td>\n",
       "      <td>2002</td>\n",
       "      <td>Ballantine Books</td>\n",
       "      <td>http://images.amazon.com/images/P/0971880107.0...</td>\n",
       "      <td>http://images.amazon.com/images/P/0971880107.0...</td>\n",
       "      <td>http://images.amazon.com/images/P/0971880107.0...</td>\n",
       "    </tr>\n",
       "    <tr>\n",
       "      <th>freq</th>\n",
       "      <td>14782</td>\n",
       "      <td>2502</td>\n",
       "      <td>2502</td>\n",
       "      <td>10053</td>\n",
       "      <td>87276</td>\n",
       "      <td>34724</td>\n",
       "      <td>2502</td>\n",
       "      <td>2502</td>\n",
       "      <td>2502</td>\n",
       "    </tr>\n",
       "  </tbody>\n",
       "</table>\n",
       "</div>"
      ],
      "text/plain": [
       "                        Location        ISBN   Book-Title   Book-Author  \\\n",
       "count                    1031136     1031136      1031136       1031134   \n",
       "unique                     22480      270151       241071        101587   \n",
       "top     toronto, ontario, canada  0971880107  Wild Animus  Stephen King   \n",
       "freq                       14782        2502         2502         10053   \n",
       "\n",
       "        Year-Of-Publication         Publisher  \\\n",
       "count               1031136           1031134   \n",
       "unique                  202             16729   \n",
       "top                    2002  Ballantine Books   \n",
       "freq                  87276             34724   \n",
       "\n",
       "                                              Image-URL-S  \\\n",
       "count                                             1031136   \n",
       "unique                                             269842   \n",
       "top     http://images.amazon.com/images/P/0971880107.0...   \n",
       "freq                                                 2502   \n",
       "\n",
       "                                              Image-URL-M  \\\n",
       "count                                             1031136   \n",
       "unique                                             269842   \n",
       "top     http://images.amazon.com/images/P/0971880107.0...   \n",
       "freq                                                 2502   \n",
       "\n",
       "                                              Image-URL-L  \n",
       "count                                             1031132  \n",
       "unique                                             269839  \n",
       "top     http://images.amazon.com/images/P/0971880107.0...  \n",
       "freq                                                 2502  "
      ]
     },
     "execution_count": 24,
     "metadata": {},
     "output_type": "execute_result"
    }
   ],
   "source": [
    "df.describe(include='object')"
   ]
  },
  {
   "cell_type": "markdown",
   "id": "3ba62c7e",
   "metadata": {
    "papermill": {
     "duration": 0.013417,
     "end_time": "2024-12-17T07:54:43.742750",
     "exception": false,
     "start_time": "2024-12-17T07:54:43.729333",
     "status": "completed"
    },
    "tags": []
   },
   "source": [
    "### Show Books with highest average rating"
   ]
  },
  {
   "cell_type": "code",
   "execution_count": 25,
   "id": "a27bf50f",
   "metadata": {
    "execution": {
     "iopub.execute_input": "2024-12-17T07:54:43.771741Z",
     "iopub.status.busy": "2024-12-17T07:54:43.771373Z",
     "iopub.status.idle": "2024-12-17T07:54:45.257929Z",
     "shell.execute_reply": "2024-12-17T07:54:45.256894Z"
    },
    "papermill": {
     "duration": 1.504016,
     "end_time": "2024-12-17T07:54:45.260451",
     "exception": false,
     "start_time": "2024-12-17T07:54:43.756435",
     "status": "completed"
    },
    "tags": []
   },
   "outputs": [
    {
     "data": {
      "text/html": [
       "<div>\n",
       "<style scoped>\n",
       "    .dataframe tbody tr th:only-of-type {\n",
       "        vertical-align: middle;\n",
       "    }\n",
       "\n",
       "    .dataframe tbody tr th {\n",
       "        vertical-align: top;\n",
       "    }\n",
       "\n",
       "    .dataframe thead th {\n",
       "        text-align: right;\n",
       "    }\n",
       "</style>\n",
       "<table border=\"1\" class=\"dataframe\">\n",
       "  <thead>\n",
       "    <tr style=\"text-align: right;\">\n",
       "      <th></th>\n",
       "      <th>User-ID</th>\n",
       "      <th>Location</th>\n",
       "      <th>Age</th>\n",
       "      <th>ISBN</th>\n",
       "      <th>Book-Rating</th>\n",
       "      <th>Book-Author</th>\n",
       "      <th>Year-Of-Publication</th>\n",
       "      <th>Publisher</th>\n",
       "      <th>Image-URL-S</th>\n",
       "      <th>Image-URL-M</th>\n",
       "      <th>Image-URL-L</th>\n",
       "    </tr>\n",
       "    <tr>\n",
       "      <th>Book-Title</th>\n",
       "      <th></th>\n",
       "      <th></th>\n",
       "      <th></th>\n",
       "      <th></th>\n",
       "      <th></th>\n",
       "      <th></th>\n",
       "      <th></th>\n",
       "      <th></th>\n",
       "      <th></th>\n",
       "      <th></th>\n",
       "      <th></th>\n",
       "    </tr>\n",
       "  </thead>\n",
       "  <tbody>\n",
       "    <tr>\n",
       "      <th>A Light in the Storm: The Civil War Diary of Amelia Martin, Fenwick Island, Delaware, 1861 (Dear America)</th>\n",
       "      <td>4</td>\n",
       "      <td>4</td>\n",
       "      <td>1</td>\n",
       "      <td>4</td>\n",
       "      <td>4</td>\n",
       "      <td>4</td>\n",
       "      <td>4</td>\n",
       "      <td>4</td>\n",
       "      <td>4</td>\n",
       "      <td>4</td>\n",
       "      <td>4</td>\n",
       "    </tr>\n",
       "    <tr>\n",
       "      <th>Always Have Popsicles</th>\n",
       "      <td>1</td>\n",
       "      <td>1</td>\n",
       "      <td>1</td>\n",
       "      <td>1</td>\n",
       "      <td>1</td>\n",
       "      <td>1</td>\n",
       "      <td>1</td>\n",
       "      <td>1</td>\n",
       "      <td>1</td>\n",
       "      <td>1</td>\n",
       "      <td>1</td>\n",
       "    </tr>\n",
       "    <tr>\n",
       "      <th>Apple Magic (The Collector's series)</th>\n",
       "      <td>1</td>\n",
       "      <td>1</td>\n",
       "      <td>1</td>\n",
       "      <td>1</td>\n",
       "      <td>1</td>\n",
       "      <td>1</td>\n",
       "      <td>1</td>\n",
       "      <td>1</td>\n",
       "      <td>1</td>\n",
       "      <td>1</td>\n",
       "      <td>1</td>\n",
       "    </tr>\n",
       "    <tr>\n",
       "      <th>Ask Lily (Young Women of Faith: Lily Series, Book 5)</th>\n",
       "      <td>1</td>\n",
       "      <td>1</td>\n",
       "      <td>1</td>\n",
       "      <td>1</td>\n",
       "      <td>1</td>\n",
       "      <td>1</td>\n",
       "      <td>1</td>\n",
       "      <td>1</td>\n",
       "      <td>1</td>\n",
       "      <td>1</td>\n",
       "      <td>1</td>\n",
       "    </tr>\n",
       "    <tr>\n",
       "      <th>Beyond IBM: Leadership Marketing and Finance for the 1990s</th>\n",
       "      <td>1</td>\n",
       "      <td>1</td>\n",
       "      <td>0</td>\n",
       "      <td>1</td>\n",
       "      <td>1</td>\n",
       "      <td>1</td>\n",
       "      <td>1</td>\n",
       "      <td>1</td>\n",
       "      <td>1</td>\n",
       "      <td>1</td>\n",
       "      <td>1</td>\n",
       "    </tr>\n",
       "    <tr>\n",
       "      <th>...</th>\n",
       "      <td>...</td>\n",
       "      <td>...</td>\n",
       "      <td>...</td>\n",
       "      <td>...</td>\n",
       "      <td>...</td>\n",
       "      <td>...</td>\n",
       "      <td>...</td>\n",
       "      <td>...</td>\n",
       "      <td>...</td>\n",
       "      <td>...</td>\n",
       "      <td>...</td>\n",
       "    </tr>\n",
       "    <tr>\n",
       "      <th>Ã?Â?lpiraten.</th>\n",
       "      <td>2</td>\n",
       "      <td>2</td>\n",
       "      <td>1</td>\n",
       "      <td>2</td>\n",
       "      <td>2</td>\n",
       "      <td>2</td>\n",
       "      <td>2</td>\n",
       "      <td>2</td>\n",
       "      <td>2</td>\n",
       "      <td>2</td>\n",
       "      <td>2</td>\n",
       "    </tr>\n",
       "    <tr>\n",
       "      <th>Ã?Â?rger mit Produkt X. Roman.</th>\n",
       "      <td>4</td>\n",
       "      <td>4</td>\n",
       "      <td>4</td>\n",
       "      <td>4</td>\n",
       "      <td>4</td>\n",
       "      <td>4</td>\n",
       "      <td>4</td>\n",
       "      <td>4</td>\n",
       "      <td>4</td>\n",
       "      <td>4</td>\n",
       "      <td>4</td>\n",
       "    </tr>\n",
       "    <tr>\n",
       "      <th>Ã?Â?sterlich leben.</th>\n",
       "      <td>1</td>\n",
       "      <td>1</td>\n",
       "      <td>1</td>\n",
       "      <td>1</td>\n",
       "      <td>1</td>\n",
       "      <td>1</td>\n",
       "      <td>1</td>\n",
       "      <td>1</td>\n",
       "      <td>1</td>\n",
       "      <td>1</td>\n",
       "      <td>1</td>\n",
       "    </tr>\n",
       "    <tr>\n",
       "      <th>Ã?Â?stlich der Berge.</th>\n",
       "      <td>3</td>\n",
       "      <td>3</td>\n",
       "      <td>3</td>\n",
       "      <td>3</td>\n",
       "      <td>3</td>\n",
       "      <td>3</td>\n",
       "      <td>3</td>\n",
       "      <td>3</td>\n",
       "      <td>3</td>\n",
       "      <td>3</td>\n",
       "      <td>3</td>\n",
       "    </tr>\n",
       "    <tr>\n",
       "      <th>Ã?Â?thique en toc</th>\n",
       "      <td>2</td>\n",
       "      <td>2</td>\n",
       "      <td>2</td>\n",
       "      <td>2</td>\n",
       "      <td>2</td>\n",
       "      <td>2</td>\n",
       "      <td>2</td>\n",
       "      <td>2</td>\n",
       "      <td>2</td>\n",
       "      <td>2</td>\n",
       "      <td>2</td>\n",
       "    </tr>\n",
       "  </tbody>\n",
       "</table>\n",
       "<p>241071 rows × 11 columns</p>\n",
       "</div>"
      ],
      "text/plain": [
       "                                                    User-ID  Location  Age  \\\n",
       "Book-Title                                                                   \n",
       " A Light in the Storm: The Civil War Diary of A...        4         4    1   \n",
       " Always Have Popsicles                                    1         1    1   \n",
       " Apple Magic (The Collector's series)                     1         1    1   \n",
       " Ask Lily (Young Women of Faith: Lily Series, B...        1         1    1   \n",
       " Beyond IBM: Leadership Marketing and Finance f...        1         1    0   \n",
       "...                                                     ...       ...  ...   \n",
       "Ã?Â?lpiraten.                                             2         2    1   \n",
       "Ã?Â?rger mit Produkt X. Roman.                            4         4    4   \n",
       "Ã?Â?sterlich leben.                                       1         1    1   \n",
       "Ã?Â?stlich der Berge.                                     3         3    3   \n",
       "Ã?Â?thique en toc                                         2         2    2   \n",
       "\n",
       "                                                    ISBN  Book-Rating  \\\n",
       "Book-Title                                                              \n",
       " A Light in the Storm: The Civil War Diary of A...     4            4   \n",
       " Always Have Popsicles                                 1            1   \n",
       " Apple Magic (The Collector's series)                  1            1   \n",
       " Ask Lily (Young Women of Faith: Lily Series, B...     1            1   \n",
       " Beyond IBM: Leadership Marketing and Finance f...     1            1   \n",
       "...                                                  ...          ...   \n",
       "Ã?Â?lpiraten.                                          2            2   \n",
       "Ã?Â?rger mit Produkt X. Roman.                         4            4   \n",
       "Ã?Â?sterlich leben.                                    1            1   \n",
       "Ã?Â?stlich der Berge.                                  3            3   \n",
       "Ã?Â?thique en toc                                      2            2   \n",
       "\n",
       "                                                    Book-Author  \\\n",
       "Book-Title                                                        \n",
       " A Light in the Storm: The Civil War Diary of A...            4   \n",
       " Always Have Popsicles                                        1   \n",
       " Apple Magic (The Collector's series)                         1   \n",
       " Ask Lily (Young Women of Faith: Lily Series, B...            1   \n",
       " Beyond IBM: Leadership Marketing and Finance f...            1   \n",
       "...                                                         ...   \n",
       "Ã?Â?lpiraten.                                                 2   \n",
       "Ã?Â?rger mit Produkt X. Roman.                                4   \n",
       "Ã?Â?sterlich leben.                                           1   \n",
       "Ã?Â?stlich der Berge.                                         3   \n",
       "Ã?Â?thique en toc                                             2   \n",
       "\n",
       "                                                    Year-Of-Publication  \\\n",
       "Book-Title                                                                \n",
       " A Light in the Storm: The Civil War Diary of A...                    4   \n",
       " Always Have Popsicles                                                1   \n",
       " Apple Magic (The Collector's series)                                 1   \n",
       " Ask Lily (Young Women of Faith: Lily Series, B...                    1   \n",
       " Beyond IBM: Leadership Marketing and Finance f...                    1   \n",
       "...                                                                 ...   \n",
       "Ã?Â?lpiraten.                                                         2   \n",
       "Ã?Â?rger mit Produkt X. Roman.                                        4   \n",
       "Ã?Â?sterlich leben.                                                   1   \n",
       "Ã?Â?stlich der Berge.                                                 3   \n",
       "Ã?Â?thique en toc                                                     2   \n",
       "\n",
       "                                                    Publisher  Image-URL-S  \\\n",
       "Book-Title                                                                   \n",
       " A Light in the Storm: The Civil War Diary of A...          4            4   \n",
       " Always Have Popsicles                                      1            1   \n",
       " Apple Magic (The Collector's series)                       1            1   \n",
       " Ask Lily (Young Women of Faith: Lily Series, B...          1            1   \n",
       " Beyond IBM: Leadership Marketing and Finance f...          1            1   \n",
       "...                                                       ...          ...   \n",
       "Ã?Â?lpiraten.                                               2            2   \n",
       "Ã?Â?rger mit Produkt X. Roman.                              4            4   \n",
       "Ã?Â?sterlich leben.                                         1            1   \n",
       "Ã?Â?stlich der Berge.                                       3            3   \n",
       "Ã?Â?thique en toc                                           2            2   \n",
       "\n",
       "                                                    Image-URL-M  Image-URL-L  \n",
       "Book-Title                                                                    \n",
       " A Light in the Storm: The Civil War Diary of A...            4            4  \n",
       " Always Have Popsicles                                        1            1  \n",
       " Apple Magic (The Collector's series)                         1            1  \n",
       " Ask Lily (Young Women of Faith: Lily Series, B...            1            1  \n",
       " Beyond IBM: Leadership Marketing and Finance f...            1            1  \n",
       "...                                                         ...          ...  \n",
       "Ã?Â?lpiraten.                                                 2            2  \n",
       "Ã?Â?rger mit Produkt X. Roman.                                4            4  \n",
       "Ã?Â?sterlich leben.                                           1            1  \n",
       "Ã?Â?stlich der Berge.                                         3            3  \n",
       "Ã?Â?thique en toc                                             2            2  \n",
       "\n",
       "[241071 rows x 11 columns]"
      ]
     },
     "execution_count": 25,
     "metadata": {},
     "output_type": "execute_result"
    }
   ],
   "source": [
    "# number of votes on each book\n",
    "df.groupby('Book-Title').count()"
   ]
  },
  {
   "cell_type": "code",
   "execution_count": 26,
   "id": "15b0c28e",
   "metadata": {
    "execution": {
     "iopub.execute_input": "2024-12-17T07:54:45.290841Z",
     "iopub.status.busy": "2024-12-17T07:54:45.290478Z",
     "iopub.status.idle": "2024-12-17T07:54:46.767165Z",
     "shell.execute_reply": "2024-12-17T07:54:46.766060Z"
    },
    "papermill": {
     "duration": 1.494234,
     "end_time": "2024-12-17T07:54:46.769289",
     "exception": false,
     "start_time": "2024-12-17T07:54:45.275055",
     "status": "completed"
    },
    "tags": []
   },
   "outputs": [
    {
     "data": {
      "text/html": [
       "<div>\n",
       "<style scoped>\n",
       "    .dataframe tbody tr th:only-of-type {\n",
       "        vertical-align: middle;\n",
       "    }\n",
       "\n",
       "    .dataframe tbody tr th {\n",
       "        vertical-align: top;\n",
       "    }\n",
       "\n",
       "    .dataframe thead th {\n",
       "        text-align: right;\n",
       "    }\n",
       "</style>\n",
       "<table border=\"1\" class=\"dataframe\">\n",
       "  <thead>\n",
       "    <tr style=\"text-align: right;\">\n",
       "      <th></th>\n",
       "      <th>Book-Title</th>\n",
       "      <th>Book-Rating</th>\n",
       "    </tr>\n",
       "  </thead>\n",
       "  <tbody>\n",
       "    <tr>\n",
       "      <th>0</th>\n",
       "      <td>A Light in the Storm: The Civil War Diary of ...</td>\n",
       "      <td>4</td>\n",
       "    </tr>\n",
       "    <tr>\n",
       "      <th>1</th>\n",
       "      <td>Always Have Popsicles</td>\n",
       "      <td>1</td>\n",
       "    </tr>\n",
       "    <tr>\n",
       "      <th>2</th>\n",
       "      <td>Apple Magic (The Collector's series)</td>\n",
       "      <td>1</td>\n",
       "    </tr>\n",
       "    <tr>\n",
       "      <th>3</th>\n",
       "      <td>Ask Lily (Young Women of Faith: Lily Series, ...</td>\n",
       "      <td>1</td>\n",
       "    </tr>\n",
       "    <tr>\n",
       "      <th>4</th>\n",
       "      <td>Beyond IBM: Leadership Marketing and Finance ...</td>\n",
       "      <td>1</td>\n",
       "    </tr>\n",
       "    <tr>\n",
       "      <th>...</th>\n",
       "      <td>...</td>\n",
       "      <td>...</td>\n",
       "    </tr>\n",
       "    <tr>\n",
       "      <th>241066</th>\n",
       "      <td>Ã?Â?lpiraten.</td>\n",
       "      <td>2</td>\n",
       "    </tr>\n",
       "    <tr>\n",
       "      <th>241067</th>\n",
       "      <td>Ã?Â?rger mit Produkt X. Roman.</td>\n",
       "      <td>4</td>\n",
       "    </tr>\n",
       "    <tr>\n",
       "      <th>241068</th>\n",
       "      <td>Ã?Â?sterlich leben.</td>\n",
       "      <td>1</td>\n",
       "    </tr>\n",
       "    <tr>\n",
       "      <th>241069</th>\n",
       "      <td>Ã?Â?stlich der Berge.</td>\n",
       "      <td>3</td>\n",
       "    </tr>\n",
       "    <tr>\n",
       "      <th>241070</th>\n",
       "      <td>Ã?Â?thique en toc</td>\n",
       "      <td>2</td>\n",
       "    </tr>\n",
       "  </tbody>\n",
       "</table>\n",
       "<p>241071 rows × 2 columns</p>\n",
       "</div>"
      ],
      "text/plain": [
       "                                               Book-Title  Book-Rating\n",
       "0        A Light in the Storm: The Civil War Diary of ...            4\n",
       "1                                   Always Have Popsicles            1\n",
       "2                    Apple Magic (The Collector's series)            1\n",
       "3        Ask Lily (Young Women of Faith: Lily Series, ...            1\n",
       "4        Beyond IBM: Leadership Marketing and Finance ...            1\n",
       "...                                                   ...          ...\n",
       "241066                                      Ã?Â?lpiraten.            2\n",
       "241067                     Ã?Â?rger mit Produkt X. Roman.            4\n",
       "241068                                Ã?Â?sterlich leben.            1\n",
       "241069                              Ã?Â?stlich der Berge.            3\n",
       "241070                                  Ã?Â?thique en toc            2\n",
       "\n",
       "[241071 rows x 2 columns]"
      ]
     },
     "execution_count": 26,
     "metadata": {},
     "output_type": "execute_result"
    }
   ],
   "source": [
    "df.groupby('Book-Title').count()['Book-Rating'].reset_index()"
   ]
  },
  {
   "cell_type": "code",
   "execution_count": 27,
   "id": "07ccac4c",
   "metadata": {
    "execution": {
     "iopub.execute_input": "2024-12-17T07:54:46.802821Z",
     "iopub.status.busy": "2024-12-17T07:54:46.802445Z",
     "iopub.status.idle": "2024-12-17T07:54:48.251037Z",
     "shell.execute_reply": "2024-12-17T07:54:48.249944Z"
    },
    "papermill": {
     "duration": 1.46955,
     "end_time": "2024-12-17T07:54:48.253535",
     "exception": false,
     "start_time": "2024-12-17T07:54:46.783985",
     "status": "completed"
    },
    "tags": []
   },
   "outputs": [],
   "source": [
    "rating_count = df.groupby('Book-Title').count()['Book-Rating']"
   ]
  },
  {
   "cell_type": "code",
   "execution_count": 28,
   "id": "275d866a",
   "metadata": {
    "execution": {
     "iopub.execute_input": "2024-12-17T07:54:48.284636Z",
     "iopub.status.busy": "2024-12-17T07:54:48.284248Z",
     "iopub.status.idle": "2024-12-17T07:54:49.074354Z",
     "shell.execute_reply": "2024-12-17T07:54:49.073191Z"
    },
    "papermill": {
     "duration": 0.808479,
     "end_time": "2024-12-17T07:54:49.076704",
     "exception": false,
     "start_time": "2024-12-17T07:54:48.268225",
     "status": "completed"
    },
    "tags": []
   },
   "outputs": [],
   "source": [
    "average_rating = df.groupby('Book-Title')['Book-Rating'].mean().reset_index()"
   ]
  },
  {
   "cell_type": "code",
   "execution_count": 29,
   "id": "764cb987",
   "metadata": {
    "execution": {
     "iopub.execute_input": "2024-12-17T07:54:49.108589Z",
     "iopub.status.busy": "2024-12-17T07:54:49.108205Z",
     "iopub.status.idle": "2024-12-17T07:54:49.119497Z",
     "shell.execute_reply": "2024-12-17T07:54:49.118464Z"
    },
    "papermill": {
     "duration": 0.029379,
     "end_time": "2024-12-17T07:54:49.121526",
     "exception": false,
     "start_time": "2024-12-17T07:54:49.092147",
     "status": "completed"
    },
    "tags": []
   },
   "outputs": [
    {
     "data": {
      "text/html": [
       "<div>\n",
       "<style scoped>\n",
       "    .dataframe tbody tr th:only-of-type {\n",
       "        vertical-align: middle;\n",
       "    }\n",
       "\n",
       "    .dataframe tbody tr th {\n",
       "        vertical-align: top;\n",
       "    }\n",
       "\n",
       "    .dataframe thead th {\n",
       "        text-align: right;\n",
       "    }\n",
       "</style>\n",
       "<table border=\"1\" class=\"dataframe\">\n",
       "  <thead>\n",
       "    <tr style=\"text-align: right;\">\n",
       "      <th></th>\n",
       "      <th>Book-Title</th>\n",
       "      <th>Book-Rating</th>\n",
       "    </tr>\n",
       "  </thead>\n",
       "  <tbody>\n",
       "    <tr>\n",
       "      <th>0</th>\n",
       "      <td>A Light in the Storm: The Civil War Diary of ...</td>\n",
       "      <td>2.250000</td>\n",
       "    </tr>\n",
       "    <tr>\n",
       "      <th>1</th>\n",
       "      <td>Always Have Popsicles</td>\n",
       "      <td>0.000000</td>\n",
       "    </tr>\n",
       "    <tr>\n",
       "      <th>2</th>\n",
       "      <td>Apple Magic (The Collector's series)</td>\n",
       "      <td>0.000000</td>\n",
       "    </tr>\n",
       "    <tr>\n",
       "      <th>3</th>\n",
       "      <td>Ask Lily (Young Women of Faith: Lily Series, ...</td>\n",
       "      <td>8.000000</td>\n",
       "    </tr>\n",
       "    <tr>\n",
       "      <th>4</th>\n",
       "      <td>Beyond IBM: Leadership Marketing and Finance ...</td>\n",
       "      <td>0.000000</td>\n",
       "    </tr>\n",
       "    <tr>\n",
       "      <th>...</th>\n",
       "      <td>...</td>\n",
       "      <td>...</td>\n",
       "    </tr>\n",
       "    <tr>\n",
       "      <th>241066</th>\n",
       "      <td>Ã?Â?lpiraten.</td>\n",
       "      <td>0.000000</td>\n",
       "    </tr>\n",
       "    <tr>\n",
       "      <th>241067</th>\n",
       "      <td>Ã?Â?rger mit Produkt X. Roman.</td>\n",
       "      <td>5.250000</td>\n",
       "    </tr>\n",
       "    <tr>\n",
       "      <th>241068</th>\n",
       "      <td>Ã?Â?sterlich leben.</td>\n",
       "      <td>7.000000</td>\n",
       "    </tr>\n",
       "    <tr>\n",
       "      <th>241069</th>\n",
       "      <td>Ã?Â?stlich der Berge.</td>\n",
       "      <td>2.666667</td>\n",
       "    </tr>\n",
       "    <tr>\n",
       "      <th>241070</th>\n",
       "      <td>Ã?Â?thique en toc</td>\n",
       "      <td>4.000000</td>\n",
       "    </tr>\n",
       "  </tbody>\n",
       "</table>\n",
       "<p>241071 rows × 2 columns</p>\n",
       "</div>"
      ],
      "text/plain": [
       "                                               Book-Title  Book-Rating\n",
       "0        A Light in the Storm: The Civil War Diary of ...     2.250000\n",
       "1                                   Always Have Popsicles     0.000000\n",
       "2                    Apple Magic (The Collector's series)     0.000000\n",
       "3        Ask Lily (Young Women of Faith: Lily Series, ...     8.000000\n",
       "4        Beyond IBM: Leadership Marketing and Finance ...     0.000000\n",
       "...                                                   ...          ...\n",
       "241066                                      Ã?Â?lpiraten.     0.000000\n",
       "241067                     Ã?Â?rger mit Produkt X. Roman.     5.250000\n",
       "241068                                Ã?Â?sterlich leben.     7.000000\n",
       "241069                              Ã?Â?stlich der Berge.     2.666667\n",
       "241070                                  Ã?Â?thique en toc     4.000000\n",
       "\n",
       "[241071 rows x 2 columns]"
      ]
     },
     "execution_count": 29,
     "metadata": {},
     "output_type": "execute_result"
    }
   ],
   "source": [
    "average_rating"
   ]
  },
  {
   "cell_type": "code",
   "execution_count": 30,
   "id": "65981589",
   "metadata": {
    "execution": {
     "iopub.execute_input": "2024-12-17T07:54:49.152424Z",
     "iopub.status.busy": "2024-12-17T07:54:49.152041Z",
     "iopub.status.idle": "2024-12-17T07:54:49.288333Z",
     "shell.execute_reply": "2024-12-17T07:54:49.287330Z"
    },
    "papermill": {
     "duration": 0.154472,
     "end_time": "2024-12-17T07:54:49.290669",
     "exception": false,
     "start_time": "2024-12-17T07:54:49.136197",
     "status": "completed"
    },
    "tags": []
   },
   "outputs": [],
   "source": [
    "popular_df = average_rating.merge(rating_count, on='Book-Title', how='inner')"
   ]
  },
  {
   "cell_type": "code",
   "execution_count": 31,
   "id": "ab4edb18",
   "metadata": {
    "execution": {
     "iopub.execute_input": "2024-12-17T07:54:49.321398Z",
     "iopub.status.busy": "2024-12-17T07:54:49.321019Z",
     "iopub.status.idle": "2024-12-17T07:54:49.331907Z",
     "shell.execute_reply": "2024-12-17T07:54:49.330853Z"
    },
    "papermill": {
     "duration": 0.028409,
     "end_time": "2024-12-17T07:54:49.333796",
     "exception": false,
     "start_time": "2024-12-17T07:54:49.305387",
     "status": "completed"
    },
    "tags": []
   },
   "outputs": [
    {
     "data": {
      "text/html": [
       "<div>\n",
       "<style scoped>\n",
       "    .dataframe tbody tr th:only-of-type {\n",
       "        vertical-align: middle;\n",
       "    }\n",
       "\n",
       "    .dataframe tbody tr th {\n",
       "        vertical-align: top;\n",
       "    }\n",
       "\n",
       "    .dataframe thead th {\n",
       "        text-align: right;\n",
       "    }\n",
       "</style>\n",
       "<table border=\"1\" class=\"dataframe\">\n",
       "  <thead>\n",
       "    <tr style=\"text-align: right;\">\n",
       "      <th></th>\n",
       "      <th>Book-Title</th>\n",
       "      <th>Book-Rating_x</th>\n",
       "      <th>Book-Rating_y</th>\n",
       "    </tr>\n",
       "  </thead>\n",
       "  <tbody>\n",
       "    <tr>\n",
       "      <th>0</th>\n",
       "      <td>A Light in the Storm: The Civil War Diary of ...</td>\n",
       "      <td>2.25</td>\n",
       "      <td>4</td>\n",
       "    </tr>\n",
       "    <tr>\n",
       "      <th>1</th>\n",
       "      <td>Always Have Popsicles</td>\n",
       "      <td>0.00</td>\n",
       "      <td>1</td>\n",
       "    </tr>\n",
       "    <tr>\n",
       "      <th>2</th>\n",
       "      <td>Apple Magic (The Collector's series)</td>\n",
       "      <td>0.00</td>\n",
       "      <td>1</td>\n",
       "    </tr>\n",
       "    <tr>\n",
       "      <th>3</th>\n",
       "      <td>Ask Lily (Young Women of Faith: Lily Series, ...</td>\n",
       "      <td>8.00</td>\n",
       "      <td>1</td>\n",
       "    </tr>\n",
       "    <tr>\n",
       "      <th>4</th>\n",
       "      <td>Beyond IBM: Leadership Marketing and Finance ...</td>\n",
       "      <td>0.00</td>\n",
       "      <td>1</td>\n",
       "    </tr>\n",
       "  </tbody>\n",
       "</table>\n",
       "</div>"
      ],
      "text/plain": [
       "                                          Book-Title  Book-Rating_x  \\\n",
       "0   A Light in the Storm: The Civil War Diary of ...           2.25   \n",
       "1                              Always Have Popsicles           0.00   \n",
       "2               Apple Magic (The Collector's series)           0.00   \n",
       "3   Ask Lily (Young Women of Faith: Lily Series, ...           8.00   \n",
       "4   Beyond IBM: Leadership Marketing and Finance ...           0.00   \n",
       "\n",
       "   Book-Rating_y  \n",
       "0              4  \n",
       "1              1  \n",
       "2              1  \n",
       "3              1  \n",
       "4              1  "
      ]
     },
     "execution_count": 31,
     "metadata": {},
     "output_type": "execute_result"
    }
   ],
   "source": [
    "popular_df.head()"
   ]
  },
  {
   "cell_type": "code",
   "execution_count": 32,
   "id": "99811a8b",
   "metadata": {
    "execution": {
     "iopub.execute_input": "2024-12-17T07:54:49.365302Z",
     "iopub.status.busy": "2024-12-17T07:54:49.364869Z",
     "iopub.status.idle": "2024-12-17T07:54:49.370342Z",
     "shell.execute_reply": "2024-12-17T07:54:49.369248Z"
    },
    "papermill": {
     "duration": 0.023963,
     "end_time": "2024-12-17T07:54:49.372461",
     "exception": false,
     "start_time": "2024-12-17T07:54:49.348498",
     "status": "completed"
    },
    "tags": []
   },
   "outputs": [],
   "source": [
    "popular_df.rename(columns={'Book-Rating_x':'avg_ratings', 'Book-Rating_y':'rating_count'},inplace=True)"
   ]
  },
  {
   "cell_type": "code",
   "execution_count": 33,
   "id": "27751d91",
   "metadata": {
    "execution": {
     "iopub.execute_input": "2024-12-17T07:54:49.403296Z",
     "iopub.status.busy": "2024-12-17T07:54:49.402952Z",
     "iopub.status.idle": "2024-12-17T07:54:49.413147Z",
     "shell.execute_reply": "2024-12-17T07:54:49.412143Z"
    },
    "papermill": {
     "duration": 0.028032,
     "end_time": "2024-12-17T07:54:49.415169",
     "exception": false,
     "start_time": "2024-12-17T07:54:49.387137",
     "status": "completed"
    },
    "tags": []
   },
   "outputs": [
    {
     "data": {
      "text/html": [
       "<div>\n",
       "<style scoped>\n",
       "    .dataframe tbody tr th:only-of-type {\n",
       "        vertical-align: middle;\n",
       "    }\n",
       "\n",
       "    .dataframe tbody tr th {\n",
       "        vertical-align: top;\n",
       "    }\n",
       "\n",
       "    .dataframe thead th {\n",
       "        text-align: right;\n",
       "    }\n",
       "</style>\n",
       "<table border=\"1\" class=\"dataframe\">\n",
       "  <thead>\n",
       "    <tr style=\"text-align: right;\">\n",
       "      <th></th>\n",
       "      <th>Book-Title</th>\n",
       "      <th>avg_ratings</th>\n",
       "      <th>rating_count</th>\n",
       "    </tr>\n",
       "  </thead>\n",
       "  <tbody>\n",
       "    <tr>\n",
       "      <th>0</th>\n",
       "      <td>A Light in the Storm: The Civil War Diary of ...</td>\n",
       "      <td>2.25</td>\n",
       "      <td>4</td>\n",
       "    </tr>\n",
       "    <tr>\n",
       "      <th>1</th>\n",
       "      <td>Always Have Popsicles</td>\n",
       "      <td>0.00</td>\n",
       "      <td>1</td>\n",
       "    </tr>\n",
       "    <tr>\n",
       "      <th>2</th>\n",
       "      <td>Apple Magic (The Collector's series)</td>\n",
       "      <td>0.00</td>\n",
       "      <td>1</td>\n",
       "    </tr>\n",
       "    <tr>\n",
       "      <th>3</th>\n",
       "      <td>Ask Lily (Young Women of Faith: Lily Series, ...</td>\n",
       "      <td>8.00</td>\n",
       "      <td>1</td>\n",
       "    </tr>\n",
       "    <tr>\n",
       "      <th>4</th>\n",
       "      <td>Beyond IBM: Leadership Marketing and Finance ...</td>\n",
       "      <td>0.00</td>\n",
       "      <td>1</td>\n",
       "    </tr>\n",
       "  </tbody>\n",
       "</table>\n",
       "</div>"
      ],
      "text/plain": [
       "                                          Book-Title  avg_ratings  \\\n",
       "0   A Light in the Storm: The Civil War Diary of ...         2.25   \n",
       "1                              Always Have Popsicles         0.00   \n",
       "2               Apple Magic (The Collector's series)         0.00   \n",
       "3   Ask Lily (Young Women of Faith: Lily Series, ...         8.00   \n",
       "4   Beyond IBM: Leadership Marketing and Finance ...         0.00   \n",
       "\n",
       "   rating_count  \n",
       "0             4  \n",
       "1             1  \n",
       "2             1  \n",
       "3             1  \n",
       "4             1  "
      ]
     },
     "execution_count": 33,
     "metadata": {},
     "output_type": "execute_result"
    }
   ],
   "source": [
    "popular_df.head()"
   ]
  },
  {
   "cell_type": "code",
   "execution_count": 34,
   "id": "1a9f18a1",
   "metadata": {
    "execution": {
     "iopub.execute_input": "2024-12-17T07:54:49.446714Z",
     "iopub.status.busy": "2024-12-17T07:54:49.446372Z",
     "iopub.status.idle": "2024-12-17T07:54:49.494193Z",
     "shell.execute_reply": "2024-12-17T07:54:49.492970Z"
    },
    "papermill": {
     "duration": 0.066172,
     "end_time": "2024-12-17T07:54:49.496488",
     "exception": false,
     "start_time": "2024-12-17T07:54:49.430316",
     "status": "completed"
    },
    "tags": []
   },
   "outputs": [
    {
     "name": "stdout",
     "output_type": "stream",
     "text": [
      "<class 'pandas.core.frame.DataFrame'>\n",
      "RangeIndex: 241071 entries, 0 to 241070\n",
      "Data columns (total 3 columns):\n",
      " #   Column        Non-Null Count   Dtype  \n",
      "---  ------        --------------   -----  \n",
      " 0   Book-Title    241071 non-null  object \n",
      " 1   avg_ratings   241071 non-null  float64\n",
      " 2   rating_count  241071 non-null  int64  \n",
      "dtypes: float64(1), int64(1), object(1)\n",
      "memory usage: 5.5+ MB\n"
     ]
    }
   ],
   "source": [
    "popular_df.info()"
   ]
  },
  {
   "cell_type": "code",
   "execution_count": 35,
   "id": "c59b2319",
   "metadata": {
    "execution": {
     "iopub.execute_input": "2024-12-17T07:54:49.528063Z",
     "iopub.status.busy": "2024-12-17T07:54:49.527687Z",
     "iopub.status.idle": "2024-12-17T07:54:49.533918Z",
     "shell.execute_reply": "2024-12-17T07:54:49.532962Z"
    },
    "papermill": {
     "duration": 0.024426,
     "end_time": "2024-12-17T07:54:49.536014",
     "exception": false,
     "start_time": "2024-12-17T07:54:49.511588",
     "status": "completed"
    },
    "tags": []
   },
   "outputs": [],
   "source": [
    "popular_df = popular_df[popular_df['rating_count']>= 250]"
   ]
  },
  {
   "cell_type": "code",
   "execution_count": 36,
   "id": "25c1b5ad",
   "metadata": {
    "execution": {
     "iopub.execute_input": "2024-12-17T07:54:49.567735Z",
     "iopub.status.busy": "2024-12-17T07:54:49.567406Z",
     "iopub.status.idle": "2024-12-17T07:54:49.573215Z",
     "shell.execute_reply": "2024-12-17T07:54:49.571964Z"
    },
    "papermill": {
     "duration": 0.024359,
     "end_time": "2024-12-17T07:54:49.575412",
     "exception": false,
     "start_time": "2024-12-17T07:54:49.551053",
     "status": "completed"
    },
    "tags": []
   },
   "outputs": [],
   "source": [
    "popular_df.sort_values(by='avg_ratings', ascending=False, inplace=True)"
   ]
  },
  {
   "cell_type": "code",
   "execution_count": 37,
   "id": "5bd1774d",
   "metadata": {
    "execution": {
     "iopub.execute_input": "2024-12-17T07:54:49.607415Z",
     "iopub.status.busy": "2024-12-17T07:54:49.607069Z",
     "iopub.status.idle": "2024-12-17T07:54:49.617951Z",
     "shell.execute_reply": "2024-12-17T07:54:49.616741Z"
    },
    "papermill": {
     "duration": 0.029189,
     "end_time": "2024-12-17T07:54:49.619906",
     "exception": false,
     "start_time": "2024-12-17T07:54:49.590717",
     "status": "completed"
    },
    "tags": []
   },
   "outputs": [
    {
     "data": {
      "text/html": [
       "<div>\n",
       "<style scoped>\n",
       "    .dataframe tbody tr th:only-of-type {\n",
       "        vertical-align: middle;\n",
       "    }\n",
       "\n",
       "    .dataframe tbody tr th {\n",
       "        vertical-align: top;\n",
       "    }\n",
       "\n",
       "    .dataframe thead th {\n",
       "        text-align: right;\n",
       "    }\n",
       "</style>\n",
       "<table border=\"1\" class=\"dataframe\">\n",
       "  <thead>\n",
       "    <tr style=\"text-align: right;\">\n",
       "      <th></th>\n",
       "      <th>Book-Title</th>\n",
       "      <th>avg_ratings</th>\n",
       "      <th>rating_count</th>\n",
       "    </tr>\n",
       "  </thead>\n",
       "  <tbody>\n",
       "    <tr>\n",
       "      <th>80434</th>\n",
       "      <td>Harry Potter and the Prisoner of Azkaban (Book 3)</td>\n",
       "      <td>5.852804</td>\n",
       "      <td>428</td>\n",
       "    </tr>\n",
       "    <tr>\n",
       "      <th>80422</th>\n",
       "      <td>Harry Potter and the Goblet of Fire (Book 4)</td>\n",
       "      <td>5.824289</td>\n",
       "      <td>387</td>\n",
       "    </tr>\n",
       "    <tr>\n",
       "      <th>80441</th>\n",
       "      <td>Harry Potter and the Sorcerer's Stone (Book 1)</td>\n",
       "      <td>5.737410</td>\n",
       "      <td>278</td>\n",
       "    </tr>\n",
       "    <tr>\n",
       "      <th>80426</th>\n",
       "      <td>Harry Potter and the Order of the Phoenix (Boo...</td>\n",
       "      <td>5.501441</td>\n",
       "      <td>347</td>\n",
       "    </tr>\n",
       "    <tr>\n",
       "      <th>80414</th>\n",
       "      <td>Harry Potter and the Chamber of Secrets (Book 2)</td>\n",
       "      <td>5.183453</td>\n",
       "      <td>556</td>\n",
       "    </tr>\n",
       "  </tbody>\n",
       "</table>\n",
       "</div>"
      ],
      "text/plain": [
       "                                              Book-Title  avg_ratings  \\\n",
       "80434  Harry Potter and the Prisoner of Azkaban (Book 3)     5.852804   \n",
       "80422       Harry Potter and the Goblet of Fire (Book 4)     5.824289   \n",
       "80441     Harry Potter and the Sorcerer's Stone (Book 1)     5.737410   \n",
       "80426  Harry Potter and the Order of the Phoenix (Boo...     5.501441   \n",
       "80414   Harry Potter and the Chamber of Secrets (Book 2)     5.183453   \n",
       "\n",
       "       rating_count  \n",
       "80434           428  \n",
       "80422           387  \n",
       "80441           278  \n",
       "80426           347  \n",
       "80414           556  "
      ]
     },
     "execution_count": 37,
     "metadata": {},
     "output_type": "execute_result"
    }
   ],
   "source": [
    "popular_df.head()"
   ]
  },
  {
   "cell_type": "code",
   "execution_count": 38,
   "id": "12e8cbdd",
   "metadata": {
    "execution": {
     "iopub.execute_input": "2024-12-17T07:54:49.652388Z",
     "iopub.status.busy": "2024-12-17T07:54:49.651998Z",
     "iopub.status.idle": "2024-12-17T07:54:49.658782Z",
     "shell.execute_reply": "2024-12-17T07:54:49.657736Z"
    },
    "papermill": {
     "duration": 0.025336,
     "end_time": "2024-12-17T07:54:49.660938",
     "exception": false,
     "start_time": "2024-12-17T07:54:49.635602",
     "status": "completed"
    },
    "tags": []
   },
   "outputs": [
    {
     "data": {
      "text/plain": [
       "(186, 3)"
      ]
     },
     "execution_count": 38,
     "metadata": {},
     "output_type": "execute_result"
    }
   ],
   "source": [
    "popular_df.shape"
   ]
  },
  {
   "cell_type": "code",
   "execution_count": 39,
   "id": "b1d40ead",
   "metadata": {
    "execution": {
     "iopub.execute_input": "2024-12-17T07:54:49.693505Z",
     "iopub.status.busy": "2024-12-17T07:54:49.693106Z",
     "iopub.status.idle": "2024-12-17T07:54:49.699170Z",
     "shell.execute_reply": "2024-12-17T07:54:49.698079Z"
    },
    "papermill": {
     "duration": 0.024953,
     "end_time": "2024-12-17T07:54:49.701310",
     "exception": false,
     "start_time": "2024-12-17T07:54:49.676357",
     "status": "completed"
    },
    "tags": []
   },
   "outputs": [],
   "source": [
    "popular_df.drop_duplicates('Book-Title', inplace=True)"
   ]
  },
  {
   "cell_type": "code",
   "execution_count": 40,
   "id": "e6448cbc",
   "metadata": {
    "execution": {
     "iopub.execute_input": "2024-12-17T07:54:49.739254Z",
     "iopub.status.busy": "2024-12-17T07:54:49.738821Z",
     "iopub.status.idle": "2024-12-17T07:54:49.745937Z",
     "shell.execute_reply": "2024-12-17T07:54:49.744659Z"
    },
    "papermill": {
     "duration": 0.026994,
     "end_time": "2024-12-17T07:54:49.747852",
     "exception": false,
     "start_time": "2024-12-17T07:54:49.720858",
     "status": "completed"
    },
    "tags": []
   },
   "outputs": [
    {
     "data": {
      "text/plain": [
       "(186, 3)"
      ]
     },
     "execution_count": 40,
     "metadata": {},
     "output_type": "execute_result"
    }
   ],
   "source": [
    "popular_df.shape"
   ]
  },
  {
   "cell_type": "code",
   "execution_count": 41,
   "id": "781ed697",
   "metadata": {
    "execution": {
     "iopub.execute_input": "2024-12-17T07:54:49.781031Z",
     "iopub.status.busy": "2024-12-17T07:54:49.780610Z",
     "iopub.status.idle": "2024-12-17T07:54:49.925551Z",
     "shell.execute_reply": "2024-12-17T07:54:49.924294Z"
    },
    "papermill": {
     "duration": 0.164499,
     "end_time": "2024-12-17T07:54:49.927964",
     "exception": false,
     "start_time": "2024-12-17T07:54:49.763465",
     "status": "completed"
    },
    "tags": []
   },
   "outputs": [
    {
     "name": "stdout",
     "output_type": "stream",
     "text": [
      "<class 'pandas.core.frame.DataFrame'>\n",
      "RangeIndex: 271360 entries, 0 to 271359\n",
      "Data columns (total 8 columns):\n",
      " #   Column               Non-Null Count   Dtype \n",
      "---  ------               --------------   ----- \n",
      " 0   ISBN                 271360 non-null  object\n",
      " 1   Book-Title           271360 non-null  object\n",
      " 2   Book-Author          271358 non-null  object\n",
      " 3   Year-Of-Publication  271360 non-null  object\n",
      " 4   Publisher            271358 non-null  object\n",
      " 5   Image-URL-S          271360 non-null  object\n",
      " 6   Image-URL-M          271360 non-null  object\n",
      " 7   Image-URL-L          271357 non-null  object\n",
      "dtypes: object(8)\n",
      "memory usage: 16.6+ MB\n"
     ]
    }
   ],
   "source": [
    "books.info()"
   ]
  },
  {
   "cell_type": "code",
   "execution_count": 42,
   "id": "3d0a41b5",
   "metadata": {
    "execution": {
     "iopub.execute_input": "2024-12-17T07:54:49.961071Z",
     "iopub.status.busy": "2024-12-17T07:54:49.960670Z",
     "iopub.status.idle": "2024-12-17T07:54:50.083421Z",
     "shell.execute_reply": "2024-12-17T07:54:50.082317Z"
    },
    "papermill": {
     "duration": 0.142111,
     "end_time": "2024-12-17T07:54:50.086041",
     "exception": false,
     "start_time": "2024-12-17T07:54:49.943930",
     "status": "completed"
    },
    "tags": []
   },
   "outputs": [],
   "source": [
    "popular_df = popular_df.merge(books, on='Book-Title').drop_duplicates('Book-Title')[['Book-Title', 'Book-Author', 'Publisher']]"
   ]
  },
  {
   "cell_type": "code",
   "execution_count": 43,
   "id": "431456bb",
   "metadata": {
    "execution": {
     "iopub.execute_input": "2024-12-17T07:54:50.118595Z",
     "iopub.status.busy": "2024-12-17T07:54:50.118224Z",
     "iopub.status.idle": "2024-12-17T07:54:50.129852Z",
     "shell.execute_reply": "2024-12-17T07:54:50.128834Z"
    },
    "papermill": {
     "duration": 0.030557,
     "end_time": "2024-12-17T07:54:50.132111",
     "exception": false,
     "start_time": "2024-12-17T07:54:50.101554",
     "status": "completed"
    },
    "tags": []
   },
   "outputs": [
    {
     "data": {
      "text/html": [
       "<div>\n",
       "<style scoped>\n",
       "    .dataframe tbody tr th:only-of-type {\n",
       "        vertical-align: middle;\n",
       "    }\n",
       "\n",
       "    .dataframe tbody tr th {\n",
       "        vertical-align: top;\n",
       "    }\n",
       "\n",
       "    .dataframe thead th {\n",
       "        text-align: right;\n",
       "    }\n",
       "</style>\n",
       "<table border=\"1\" class=\"dataframe\">\n",
       "  <thead>\n",
       "    <tr style=\"text-align: right;\">\n",
       "      <th></th>\n",
       "      <th>Book-Title</th>\n",
       "      <th>Book-Author</th>\n",
       "      <th>Publisher</th>\n",
       "    </tr>\n",
       "  </thead>\n",
       "  <tbody>\n",
       "    <tr>\n",
       "      <th>0</th>\n",
       "      <td>Harry Potter and the Prisoner of Azkaban (Book 3)</td>\n",
       "      <td>J. K. Rowling</td>\n",
       "      <td>Scholastic</td>\n",
       "    </tr>\n",
       "    <tr>\n",
       "      <th>3</th>\n",
       "      <td>Harry Potter and the Goblet of Fire (Book 4)</td>\n",
       "      <td>J. K. Rowling</td>\n",
       "      <td>Scholastic</td>\n",
       "    </tr>\n",
       "    <tr>\n",
       "      <th>5</th>\n",
       "      <td>Harry Potter and the Sorcerer's Stone (Book 1)</td>\n",
       "      <td>J. K. Rowling</td>\n",
       "      <td>Scholastic</td>\n",
       "    </tr>\n",
       "    <tr>\n",
       "      <th>9</th>\n",
       "      <td>Harry Potter and the Order of the Phoenix (Boo...</td>\n",
       "      <td>J. K. Rowling</td>\n",
       "      <td>Scholastic</td>\n",
       "    </tr>\n",
       "    <tr>\n",
       "      <th>13</th>\n",
       "      <td>Harry Potter and the Chamber of Secrets (Book 2)</td>\n",
       "      <td>J. K. Rowling</td>\n",
       "      <td>Scholastic</td>\n",
       "    </tr>\n",
       "    <tr>\n",
       "      <th>...</th>\n",
       "      <td>...</td>\n",
       "      <td>...</td>\n",
       "      <td>...</td>\n",
       "    </tr>\n",
       "    <tr>\n",
       "      <th>716</th>\n",
       "      <td>Vinegar Hill (Oprah's Book Club (Paperback))</td>\n",
       "      <td>A. Manette Ansay</td>\n",
       "      <td>Perennial</td>\n",
       "    </tr>\n",
       "    <tr>\n",
       "      <th>717</th>\n",
       "      <td>Whispers</td>\n",
       "      <td>BELVA PLAIN</td>\n",
       "      <td>Dell</td>\n",
       "    </tr>\n",
       "    <tr>\n",
       "      <th>727</th>\n",
       "      <td>Presumed Innocent</td>\n",
       "      <td>Scott Turow</td>\n",
       "      <td>Warner Books</td>\n",
       "    </tr>\n",
       "    <tr>\n",
       "      <th>733</th>\n",
       "      <td>Isle of Dogs</td>\n",
       "      <td>Patricia Cornwell</td>\n",
       "      <td>Berkley Publishing Group</td>\n",
       "    </tr>\n",
       "    <tr>\n",
       "      <th>739</th>\n",
       "      <td>Wild Animus</td>\n",
       "      <td>Rich Shapero</td>\n",
       "      <td>Too Far</td>\n",
       "    </tr>\n",
       "  </tbody>\n",
       "</table>\n",
       "<p>186 rows × 3 columns</p>\n",
       "</div>"
      ],
      "text/plain": [
       "                                            Book-Title        Book-Author  \\\n",
       "0    Harry Potter and the Prisoner of Azkaban (Book 3)      J. K. Rowling   \n",
       "3         Harry Potter and the Goblet of Fire (Book 4)      J. K. Rowling   \n",
       "5       Harry Potter and the Sorcerer's Stone (Book 1)      J. K. Rowling   \n",
       "9    Harry Potter and the Order of the Phoenix (Boo...      J. K. Rowling   \n",
       "13    Harry Potter and the Chamber of Secrets (Book 2)      J. K. Rowling   \n",
       "..                                                 ...                ...   \n",
       "716       Vinegar Hill (Oprah's Book Club (Paperback))   A. Manette Ansay   \n",
       "717                                           Whispers        BELVA PLAIN   \n",
       "727                                  Presumed Innocent        Scott Turow   \n",
       "733                                       Isle of Dogs  Patricia Cornwell   \n",
       "739                                        Wild Animus       Rich Shapero   \n",
       "\n",
       "                    Publisher  \n",
       "0                  Scholastic  \n",
       "3                  Scholastic  \n",
       "5                  Scholastic  \n",
       "9                  Scholastic  \n",
       "13                 Scholastic  \n",
       "..                        ...  \n",
       "716                 Perennial  \n",
       "717                      Dell  \n",
       "727              Warner Books  \n",
       "733  Berkley Publishing Group  \n",
       "739                   Too Far  \n",
       "\n",
       "[186 rows x 3 columns]"
      ]
     },
     "execution_count": 43,
     "metadata": {},
     "output_type": "execute_result"
    }
   ],
   "source": [
    "popular_df"
   ]
  },
  {
   "cell_type": "markdown",
   "id": "743e5901",
   "metadata": {
    "papermill": {
     "duration": 0.015225,
     "end_time": "2024-12-17T07:54:50.163148",
     "exception": false,
     "start_time": "2024-12-17T07:54:50.147923",
     "status": "completed"
    },
    "tags": []
   },
   "source": [
    "### Collaborative Filter based recommendation"
   ]
  },
  {
   "cell_type": "code",
   "execution_count": 44,
   "id": "33bf7e49",
   "metadata": {
    "execution": {
     "iopub.execute_input": "2024-12-17T07:54:50.195863Z",
     "iopub.status.busy": "2024-12-17T07:54:50.195516Z",
     "iopub.status.idle": "2024-12-17T07:54:51.009359Z",
     "shell.execute_reply": "2024-12-17T07:54:51.008302Z"
    },
    "papermill": {
     "duration": 0.833068,
     "end_time": "2024-12-17T07:54:51.011849",
     "exception": false,
     "start_time": "2024-12-17T07:54:50.178781",
     "status": "completed"
    },
    "tags": []
   },
   "outputs": [],
   "source": [
    " rating_provided = df.groupby('User-ID').count()['Book-Rating'] > 200 # fetch serious users , who rate frequently"
   ]
  },
  {
   "cell_type": "code",
   "execution_count": 45,
   "id": "6f658861",
   "metadata": {
    "execution": {
     "iopub.execute_input": "2024-12-17T07:54:51.045315Z",
     "iopub.status.busy": "2024-12-17T07:54:51.044969Z",
     "iopub.status.idle": "2024-12-17T07:54:51.054831Z",
     "shell.execute_reply": "2024-12-17T07:54:51.053750Z"
    },
    "papermill": {
     "duration": 0.028569,
     "end_time": "2024-12-17T07:54:51.056781",
     "exception": false,
     "start_time": "2024-12-17T07:54:51.028212",
     "status": "completed"
    },
    "tags": []
   },
   "outputs": [
    {
     "data": {
      "text/html": [
       "<div>\n",
       "<style scoped>\n",
       "    .dataframe tbody tr th:only-of-type {\n",
       "        vertical-align: middle;\n",
       "    }\n",
       "\n",
       "    .dataframe tbody tr th {\n",
       "        vertical-align: top;\n",
       "    }\n",
       "\n",
       "    .dataframe thead th {\n",
       "        text-align: right;\n",
       "    }\n",
       "</style>\n",
       "<table border=\"1\" class=\"dataframe\">\n",
       "  <thead>\n",
       "    <tr style=\"text-align: right;\">\n",
       "      <th></th>\n",
       "      <th>User-ID</th>\n",
       "      <th>Book-Rating</th>\n",
       "    </tr>\n",
       "  </thead>\n",
       "  <tbody>\n",
       "    <tr>\n",
       "      <th>0</th>\n",
       "      <td>2</td>\n",
       "      <td>False</td>\n",
       "    </tr>\n",
       "    <tr>\n",
       "      <th>1</th>\n",
       "      <td>8</td>\n",
       "      <td>False</td>\n",
       "    </tr>\n",
       "    <tr>\n",
       "      <th>2</th>\n",
       "      <td>9</td>\n",
       "      <td>False</td>\n",
       "    </tr>\n",
       "    <tr>\n",
       "      <th>3</th>\n",
       "      <td>10</td>\n",
       "      <td>False</td>\n",
       "    </tr>\n",
       "    <tr>\n",
       "      <th>4</th>\n",
       "      <td>12</td>\n",
       "      <td>False</td>\n",
       "    </tr>\n",
       "  </tbody>\n",
       "</table>\n",
       "</div>"
      ],
      "text/plain": [
       "   User-ID  Book-Rating\n",
       "0        2        False\n",
       "1        8        False\n",
       "2        9        False\n",
       "3       10        False\n",
       "4       12        False"
      ]
     },
     "execution_count": 45,
     "metadata": {},
     "output_type": "execute_result"
    }
   ],
   "source": [
    "rating_provided.head().reset_index()"
   ]
  },
  {
   "cell_type": "code",
   "execution_count": 46,
   "id": "1ca88e12",
   "metadata": {
    "execution": {
     "iopub.execute_input": "2024-12-17T07:54:51.111392Z",
     "iopub.status.busy": "2024-12-17T07:54:51.111003Z",
     "iopub.status.idle": "2024-12-17T07:54:51.119299Z",
     "shell.execute_reply": "2024-12-17T07:54:51.118276Z"
    },
    "papermill": {
     "duration": 0.048804,
     "end_time": "2024-12-17T07:54:51.121429",
     "exception": false,
     "start_time": "2024-12-17T07:54:51.072625",
     "status": "completed"
    },
    "tags": []
   },
   "outputs": [
    {
     "data": {
      "text/plain": [
       "Index([   254,   2276,   2766,   2977,   3363,   4017,   4385,   6251,   6323,\n",
       "         6543,\n",
       "       ...\n",
       "       271705, 273979, 274004, 274061, 274301, 274308, 275970, 277427, 277639,\n",
       "       278418],\n",
       "      dtype='int64', name='User-ID', length=811)"
      ]
     },
     "execution_count": 46,
     "metadata": {},
     "output_type": "execute_result"
    }
   ],
   "source": [
    "user_ids= rating_provided[rating_provided].index   # get user ID's\n",
    "user_ids"
   ]
  },
  {
   "cell_type": "code",
   "execution_count": 47,
   "id": "760bbe66",
   "metadata": {
    "execution": {
     "iopub.execute_input": "2024-12-17T07:54:51.156505Z",
     "iopub.status.busy": "2024-12-17T07:54:51.155575Z",
     "iopub.status.idle": "2024-12-17T07:54:51.942518Z",
     "shell.execute_reply": "2024-12-17T07:54:51.941139Z"
    },
    "papermill": {
     "duration": 0.807036,
     "end_time": "2024-12-17T07:54:51.944720",
     "exception": false,
     "start_time": "2024-12-17T07:54:51.137684",
     "status": "completed"
    },
    "tags": []
   },
   "outputs": [
    {
     "name": "stdout",
     "output_type": "stream",
     "text": [
      "<class 'pandas.core.frame.DataFrame'>\n",
      "RangeIndex: 1031136 entries, 0 to 1031135\n",
      "Data columns (total 12 columns):\n",
      " #   Column               Non-Null Count    Dtype  \n",
      "---  ------               --------------    -----  \n",
      " 0   User-ID              1031136 non-null  int64  \n",
      " 1   Location             1031136 non-null  object \n",
      " 2   Age                  753301 non-null   float64\n",
      " 3   ISBN                 1031136 non-null  object \n",
      " 4   Book-Rating          1031136 non-null  int64  \n",
      " 5   Book-Title           1031136 non-null  object \n",
      " 6   Book-Author          1031134 non-null  object \n",
      " 7   Year-Of-Publication  1031136 non-null  object \n",
      " 8   Publisher            1031134 non-null  object \n",
      " 9   Image-URL-S          1031136 non-null  object \n",
      " 10  Image-URL-M          1031136 non-null  object \n",
      " 11  Image-URL-L          1031132 non-null  object \n",
      "dtypes: float64(1), int64(2), object(9)\n",
      "memory usage: 94.4+ MB\n"
     ]
    }
   ],
   "source": [
    "# rating provided by above selected users\n",
    "df.info()"
   ]
  },
  {
   "cell_type": "code",
   "execution_count": 48,
   "id": "8d9338f2",
   "metadata": {
    "execution": {
     "iopub.execute_input": "2024-12-17T07:54:51.977991Z",
     "iopub.status.busy": "2024-12-17T07:54:51.977569Z",
     "iopub.status.idle": "2024-12-17T07:54:54.463032Z",
     "shell.execute_reply": "2024-12-17T07:54:54.461825Z"
    },
    "papermill": {
     "duration": 2.504889,
     "end_time": "2024-12-17T07:54:54.465569",
     "exception": false,
     "start_time": "2024-12-17T07:54:51.960680",
     "status": "completed"
    },
    "tags": []
   },
   "outputs": [],
   "source": [
    "df.drop_duplicates(inplace=True)"
   ]
  },
  {
   "cell_type": "code",
   "execution_count": 49,
   "id": "8f4e5540",
   "metadata": {
    "execution": {
     "iopub.execute_input": "2024-12-17T07:54:54.504623Z",
     "iopub.status.busy": "2024-12-17T07:54:54.504252Z",
     "iopub.status.idle": "2024-12-17T07:54:54.605893Z",
     "shell.execute_reply": "2024-12-17T07:54:54.604623Z"
    },
    "papermill": {
     "duration": 0.125233,
     "end_time": "2024-12-17T07:54:54.608301",
     "exception": false,
     "start_time": "2024-12-17T07:54:54.483068",
     "status": "completed"
    },
    "tags": []
   },
   "outputs": [],
   "source": [
    "df_new = df[df['User-ID'].isin(user_ids)]"
   ]
  },
  {
   "cell_type": "code",
   "execution_count": 50,
   "id": "3f723f3c",
   "metadata": {
    "execution": {
     "iopub.execute_input": "2024-12-17T07:54:54.642573Z",
     "iopub.status.busy": "2024-12-17T07:54:54.641768Z",
     "iopub.status.idle": "2024-12-17T07:54:54.659174Z",
     "shell.execute_reply": "2024-12-17T07:54:54.658076Z"
    },
    "papermill": {
     "duration": 0.036715,
     "end_time": "2024-12-17T07:54:54.661082",
     "exception": false,
     "start_time": "2024-12-17T07:54:54.624367",
     "status": "completed"
    },
    "tags": []
   },
   "outputs": [
    {
     "data": {
      "text/html": [
       "<div>\n",
       "<style scoped>\n",
       "    .dataframe tbody tr th:only-of-type {\n",
       "        vertical-align: middle;\n",
       "    }\n",
       "\n",
       "    .dataframe tbody tr th {\n",
       "        vertical-align: top;\n",
       "    }\n",
       "\n",
       "    .dataframe thead th {\n",
       "        text-align: right;\n",
       "    }\n",
       "</style>\n",
       "<table border=\"1\" class=\"dataframe\">\n",
       "  <thead>\n",
       "    <tr style=\"text-align: right;\">\n",
       "      <th></th>\n",
       "      <th>User-ID</th>\n",
       "      <th>Location</th>\n",
       "      <th>Age</th>\n",
       "      <th>ISBN</th>\n",
       "      <th>Book-Rating</th>\n",
       "      <th>Book-Title</th>\n",
       "      <th>Book-Author</th>\n",
       "      <th>Year-Of-Publication</th>\n",
       "      <th>Publisher</th>\n",
       "      <th>Image-URL-S</th>\n",
       "      <th>Image-URL-M</th>\n",
       "      <th>Image-URL-L</th>\n",
       "    </tr>\n",
       "  </thead>\n",
       "  <tbody>\n",
       "    <tr>\n",
       "      <th>311</th>\n",
       "      <td>254</td>\n",
       "      <td>minneapolis, minnesota, usa</td>\n",
       "      <td>24.0</td>\n",
       "      <td>006000438X</td>\n",
       "      <td>0</td>\n",
       "      <td>The Death of Vishnu: A Novel</td>\n",
       "      <td>Manil Suri</td>\n",
       "      <td>2002</td>\n",
       "      <td>Perennial</td>\n",
       "      <td>http://images.amazon.com/images/P/006000438X.0...</td>\n",
       "      <td>http://images.amazon.com/images/P/006000438X.0...</td>\n",
       "      <td>http://images.amazon.com/images/P/006000438X.0...</td>\n",
       "    </tr>\n",
       "    <tr>\n",
       "      <th>312</th>\n",
       "      <td>254</td>\n",
       "      <td>minneapolis, minnesota, usa</td>\n",
       "      <td>24.0</td>\n",
       "      <td>0060013117</td>\n",
       "      <td>0</td>\n",
       "      <td>Night Watch</td>\n",
       "      <td>Terry Pratchett</td>\n",
       "      <td>2002</td>\n",
       "      <td>HarperCollins</td>\n",
       "      <td>http://images.amazon.com/images/P/0060013117.0...</td>\n",
       "      <td>http://images.amazon.com/images/P/0060013117.0...</td>\n",
       "      <td>http://images.amazon.com/images/P/0060013117.0...</td>\n",
       "    </tr>\n",
       "    <tr>\n",
       "      <th>313</th>\n",
       "      <td>254</td>\n",
       "      <td>minneapolis, minnesota, usa</td>\n",
       "      <td>24.0</td>\n",
       "      <td>0060199563</td>\n",
       "      <td>0</td>\n",
       "      <td>Thief of Time</td>\n",
       "      <td>Terry Pratchett</td>\n",
       "      <td>2001</td>\n",
       "      <td>HarperCollins Publishers</td>\n",
       "      <td>http://images.amazon.com/images/P/0060199563.0...</td>\n",
       "      <td>http://images.amazon.com/images/P/0060199563.0...</td>\n",
       "      <td>http://images.amazon.com/images/P/0060199563.0...</td>\n",
       "    </tr>\n",
       "    <tr>\n",
       "      <th>314</th>\n",
       "      <td>254</td>\n",
       "      <td>minneapolis, minnesota, usa</td>\n",
       "      <td>24.0</td>\n",
       "      <td>0060391448</td>\n",
       "      <td>0</td>\n",
       "      <td>Wicked : The Life and Times of the Wicked Witc...</td>\n",
       "      <td>Gregory Maguire</td>\n",
       "      <td>1995</td>\n",
       "      <td>HarperCollins</td>\n",
       "      <td>http://images.amazon.com/images/P/0060391448.0...</td>\n",
       "      <td>http://images.amazon.com/images/P/0060391448.0...</td>\n",
       "      <td>http://images.amazon.com/images/P/0060391448.0...</td>\n",
       "    </tr>\n",
       "    <tr>\n",
       "      <th>315</th>\n",
       "      <td>254</td>\n",
       "      <td>minneapolis, minnesota, usa</td>\n",
       "      <td>24.0</td>\n",
       "      <td>0060502320</td>\n",
       "      <td>7</td>\n",
       "      <td>I've Got You, Babe</td>\n",
       "      <td>Karen Kendall</td>\n",
       "      <td>2002</td>\n",
       "      <td>Avon</td>\n",
       "      <td>http://images.amazon.com/images/P/0060502320.0...</td>\n",
       "      <td>http://images.amazon.com/images/P/0060502320.0...</td>\n",
       "      <td>http://images.amazon.com/images/P/0060502320.0...</td>\n",
       "    </tr>\n",
       "    <tr>\n",
       "      <th>...</th>\n",
       "      <td>...</td>\n",
       "      <td>...</td>\n",
       "      <td>...</td>\n",
       "      <td>...</td>\n",
       "      <td>...</td>\n",
       "      <td>...</td>\n",
       "      <td>...</td>\n",
       "      <td>...</td>\n",
       "      <td>...</td>\n",
       "      <td>...</td>\n",
       "      <td>...</td>\n",
       "      <td>...</td>\n",
       "    </tr>\n",
       "    <tr>\n",
       "      <th>1030506</th>\n",
       "      <td>278418</td>\n",
       "      <td>omaha, nebraska, usa</td>\n",
       "      <td>NaN</td>\n",
       "      <td>1885222971</td>\n",
       "      <td>0</td>\n",
       "      <td>The Lion King: The Pal Patrol (Disney's \\Story...</td>\n",
       "      <td>Inc. Staff Disney Enterprises</td>\n",
       "      <td>1997</td>\n",
       "      <td>Advance Publishers LLC</td>\n",
       "      <td>http://images.amazon.com/images/P/1885222971.0...</td>\n",
       "      <td>http://images.amazon.com/images/P/1885222971.0...</td>\n",
       "      <td>http://images.amazon.com/images/P/1885222971.0...</td>\n",
       "    </tr>\n",
       "    <tr>\n",
       "      <th>1030507</th>\n",
       "      <td>278418</td>\n",
       "      <td>omaha, nebraska, usa</td>\n",
       "      <td>NaN</td>\n",
       "      <td>188522298X</td>\n",
       "      <td>0</td>\n",
       "      <td>101 Dalmatians: Proud to Be a Pup</td>\n",
       "      <td>Disney Enterprises Inc</td>\n",
       "      <td>1997</td>\n",
       "      <td>Advance Publishers LLC</td>\n",
       "      <td>http://images.amazon.com/images/P/188522298X.0...</td>\n",
       "      <td>http://images.amazon.com/images/P/188522298X.0...</td>\n",
       "      <td>http://images.amazon.com/images/P/188522298X.0...</td>\n",
       "    </tr>\n",
       "    <tr>\n",
       "      <th>1030508</th>\n",
       "      <td>278418</td>\n",
       "      <td>omaha, nebraska, usa</td>\n",
       "      <td>NaN</td>\n",
       "      <td>1885222998</td>\n",
       "      <td>0</td>\n",
       "      <td>Aladdin: Wishful Thinking (Disney's Storytime ...</td>\n",
       "      <td>Disney Enterprises Inc</td>\n",
       "      <td>1997</td>\n",
       "      <td>Advance Publishers LLC</td>\n",
       "      <td>http://images.amazon.com/images/P/1885222998.0...</td>\n",
       "      <td>http://images.amazon.com/images/P/1885222998.0...</td>\n",
       "      <td>http://images.amazon.com/images/P/1885222998.0...</td>\n",
       "    </tr>\n",
       "    <tr>\n",
       "      <th>1030509</th>\n",
       "      <td>278418</td>\n",
       "      <td>omaha, nebraska, usa</td>\n",
       "      <td>NaN</td>\n",
       "      <td>1892083043</td>\n",
       "      <td>0</td>\n",
       "      <td>Gotcha! Strategy Games for Math and Logic (Hom...</td>\n",
       "      <td>Denise Gaskins</td>\n",
       "      <td>1998</td>\n",
       "      <td>Tabletop Academy Pr</td>\n",
       "      <td>http://images.amazon.com/images/P/1892083043.0...</td>\n",
       "      <td>http://images.amazon.com/images/P/1892083043.0...</td>\n",
       "      <td>http://images.amazon.com/images/P/1892083043.0...</td>\n",
       "    </tr>\n",
       "    <tr>\n",
       "      <th>1030510</th>\n",
       "      <td>278418</td>\n",
       "      <td>omaha, nebraska, usa</td>\n",
       "      <td>NaN</td>\n",
       "      <td>1931102589</td>\n",
       "      <td>0</td>\n",
       "      <td>Science Fiction Classics (8 Cassette Deluxe Ed...</td>\n",
       "      <td>H.G. Wells</td>\n",
       "      <td>2001</td>\n",
       "      <td>Topics Entertainment</td>\n",
       "      <td>http://images.amazon.com/images/P/1931102589.0...</td>\n",
       "      <td>http://images.amazon.com/images/P/1931102589.0...</td>\n",
       "      <td>http://images.amazon.com/images/P/1931102589.0...</td>\n",
       "    </tr>\n",
       "  </tbody>\n",
       "</table>\n",
       "<p>474007 rows × 12 columns</p>\n",
       "</div>"
      ],
      "text/plain": [
       "         User-ID                     Location   Age        ISBN  Book-Rating  \\\n",
       "311          254  minneapolis, minnesota, usa  24.0  006000438X            0   \n",
       "312          254  minneapolis, minnesota, usa  24.0  0060013117            0   \n",
       "313          254  minneapolis, minnesota, usa  24.0  0060199563            0   \n",
       "314          254  minneapolis, minnesota, usa  24.0  0060391448            0   \n",
       "315          254  minneapolis, minnesota, usa  24.0  0060502320            7   \n",
       "...          ...                          ...   ...         ...          ...   \n",
       "1030506   278418         omaha, nebraska, usa   NaN  1885222971            0   \n",
       "1030507   278418         omaha, nebraska, usa   NaN  188522298X            0   \n",
       "1030508   278418         omaha, nebraska, usa   NaN  1885222998            0   \n",
       "1030509   278418         omaha, nebraska, usa   NaN  1892083043            0   \n",
       "1030510   278418         omaha, nebraska, usa   NaN  1931102589            0   \n",
       "\n",
       "                                                Book-Title  \\\n",
       "311                           The Death of Vishnu: A Novel   \n",
       "312                                            Night Watch   \n",
       "313                                          Thief of Time   \n",
       "314      Wicked : The Life and Times of the Wicked Witc...   \n",
       "315                                     I've Got You, Babe   \n",
       "...                                                    ...   \n",
       "1030506  The Lion King: The Pal Patrol (Disney's \\Story...   \n",
       "1030507                  101 Dalmatians: Proud to Be a Pup   \n",
       "1030508  Aladdin: Wishful Thinking (Disney's Storytime ...   \n",
       "1030509  Gotcha! Strategy Games for Math and Logic (Hom...   \n",
       "1030510  Science Fiction Classics (8 Cassette Deluxe Ed...   \n",
       "\n",
       "                           Book-Author Year-Of-Publication  \\\n",
       "311                         Manil Suri                2002   \n",
       "312                    Terry Pratchett                2002   \n",
       "313                    Terry Pratchett                2001   \n",
       "314                    Gregory Maguire                1995   \n",
       "315                      Karen Kendall                2002   \n",
       "...                                ...                 ...   \n",
       "1030506  Inc. Staff Disney Enterprises                1997   \n",
       "1030507         Disney Enterprises Inc                1997   \n",
       "1030508         Disney Enterprises Inc                1997   \n",
       "1030509                 Denise Gaskins                1998   \n",
       "1030510                     H.G. Wells                2001   \n",
       "\n",
       "                        Publisher  \\\n",
       "311                     Perennial   \n",
       "312                 HarperCollins   \n",
       "313      HarperCollins Publishers   \n",
       "314                 HarperCollins   \n",
       "315                          Avon   \n",
       "...                           ...   \n",
       "1030506    Advance Publishers LLC   \n",
       "1030507    Advance Publishers LLC   \n",
       "1030508    Advance Publishers LLC   \n",
       "1030509       Tabletop Academy Pr   \n",
       "1030510      Topics Entertainment   \n",
       "\n",
       "                                               Image-URL-S  \\\n",
       "311      http://images.amazon.com/images/P/006000438X.0...   \n",
       "312      http://images.amazon.com/images/P/0060013117.0...   \n",
       "313      http://images.amazon.com/images/P/0060199563.0...   \n",
       "314      http://images.amazon.com/images/P/0060391448.0...   \n",
       "315      http://images.amazon.com/images/P/0060502320.0...   \n",
       "...                                                    ...   \n",
       "1030506  http://images.amazon.com/images/P/1885222971.0...   \n",
       "1030507  http://images.amazon.com/images/P/188522298X.0...   \n",
       "1030508  http://images.amazon.com/images/P/1885222998.0...   \n",
       "1030509  http://images.amazon.com/images/P/1892083043.0...   \n",
       "1030510  http://images.amazon.com/images/P/1931102589.0...   \n",
       "\n",
       "                                               Image-URL-M  \\\n",
       "311      http://images.amazon.com/images/P/006000438X.0...   \n",
       "312      http://images.amazon.com/images/P/0060013117.0...   \n",
       "313      http://images.amazon.com/images/P/0060199563.0...   \n",
       "314      http://images.amazon.com/images/P/0060391448.0...   \n",
       "315      http://images.amazon.com/images/P/0060502320.0...   \n",
       "...                                                    ...   \n",
       "1030506  http://images.amazon.com/images/P/1885222971.0...   \n",
       "1030507  http://images.amazon.com/images/P/188522298X.0...   \n",
       "1030508  http://images.amazon.com/images/P/1885222998.0...   \n",
       "1030509  http://images.amazon.com/images/P/1892083043.0...   \n",
       "1030510  http://images.amazon.com/images/P/1931102589.0...   \n",
       "\n",
       "                                               Image-URL-L  \n",
       "311      http://images.amazon.com/images/P/006000438X.0...  \n",
       "312      http://images.amazon.com/images/P/0060013117.0...  \n",
       "313      http://images.amazon.com/images/P/0060199563.0...  \n",
       "314      http://images.amazon.com/images/P/0060391448.0...  \n",
       "315      http://images.amazon.com/images/P/0060502320.0...  \n",
       "...                                                    ...  \n",
       "1030506  http://images.amazon.com/images/P/1885222971.0...  \n",
       "1030507  http://images.amazon.com/images/P/188522298X.0...  \n",
       "1030508  http://images.amazon.com/images/P/1885222998.0...  \n",
       "1030509  http://images.amazon.com/images/P/1892083043.0...  \n",
       "1030510  http://images.amazon.com/images/P/1931102589.0...  \n",
       "\n",
       "[474007 rows x 12 columns]"
      ]
     },
     "execution_count": 50,
     "metadata": {},
     "output_type": "execute_result"
    }
   ],
   "source": [
    "df_new"
   ]
  },
  {
   "cell_type": "code",
   "execution_count": 51,
   "id": "463dfb08",
   "metadata": {
    "execution": {
     "iopub.execute_input": "2024-12-17T07:54:54.695667Z",
     "iopub.status.busy": "2024-12-17T07:54:54.695268Z",
     "iopub.status.idle": "2024-12-17T07:54:55.497907Z",
     "shell.execute_reply": "2024-12-17T07:54:55.496901Z"
    },
    "papermill": {
     "duration": 0.823044,
     "end_time": "2024-12-17T07:54:55.500609",
     "exception": false,
     "start_time": "2024-12-17T07:54:54.677565",
     "status": "completed"
    },
    "tags": []
   },
   "outputs": [],
   "source": [
    "y= df_new.groupby('Book-Title').count()['Book-Rating'] > 50\n",
    "famous_books=y[y].index"
   ]
  },
  {
   "cell_type": "code",
   "execution_count": 52,
   "id": "4575c009",
   "metadata": {
    "execution": {
     "iopub.execute_input": "2024-12-17T07:54:55.535229Z",
     "iopub.status.busy": "2024-12-17T07:54:55.534750Z",
     "iopub.status.idle": "2024-12-17T07:54:55.542443Z",
     "shell.execute_reply": "2024-12-17T07:54:55.541219Z"
    },
    "papermill": {
     "duration": 0.027442,
     "end_time": "2024-12-17T07:54:55.544544",
     "exception": false,
     "start_time": "2024-12-17T07:54:55.517102",
     "status": "completed"
    },
    "tags": []
   },
   "outputs": [
    {
     "data": {
      "text/plain": [
       "Index(['1984', '1st to Die: A Novel', '2nd Chance', '4 Blondes',\n",
       "       'A Bend in the Road', 'A Case of Need',\n",
       "       'A Child Called \\It\\\": One Child's Courage to Survive\"',\n",
       "       'A Civil Action', 'A Day Late and a Dollar Short', 'A Fine Balance',\n",
       "       ...\n",
       "       'Winter Solstice', 'Wish You Well', 'Without Remorse',\n",
       "       'Wizard and Glass (The Dark Tower, Book 4)', 'Wuthering Heights',\n",
       "       'Year of Wonders', 'You Belong To Me',\n",
       "       'Zen and the Art of Motorcycle Maintenance: An Inquiry into Values',\n",
       "       'Zoya', '\\O\\\" Is for Outlaw\"'],\n",
       "      dtype='object', name='Book-Title', length=679)"
      ]
     },
     "execution_count": 52,
     "metadata": {},
     "output_type": "execute_result"
    }
   ],
   "source": [
    "famous_books"
   ]
  },
  {
   "cell_type": "code",
   "execution_count": 53,
   "id": "baaa0a16",
   "metadata": {
    "execution": {
     "iopub.execute_input": "2024-12-17T07:54:55.579936Z",
     "iopub.status.busy": "2024-12-17T07:54:55.579520Z",
     "iopub.status.idle": "2024-12-17T07:54:55.677073Z",
     "shell.execute_reply": "2024-12-17T07:54:55.675783Z"
    },
    "papermill": {
     "duration": 0.117907,
     "end_time": "2024-12-17T07:54:55.679416",
     "exception": false,
     "start_time": "2024-12-17T07:54:55.561509",
     "status": "completed"
    },
    "tags": []
   },
   "outputs": [
    {
     "data": {
      "text/html": [
       "<div>\n",
       "<style scoped>\n",
       "    .dataframe tbody tr th:only-of-type {\n",
       "        vertical-align: middle;\n",
       "    }\n",
       "\n",
       "    .dataframe tbody tr th {\n",
       "        vertical-align: top;\n",
       "    }\n",
       "\n",
       "    .dataframe thead th {\n",
       "        text-align: right;\n",
       "    }\n",
       "</style>\n",
       "<table border=\"1\" class=\"dataframe\">\n",
       "  <thead>\n",
       "    <tr style=\"text-align: right;\">\n",
       "      <th></th>\n",
       "      <th>User-ID</th>\n",
       "      <th>Location</th>\n",
       "      <th>Age</th>\n",
       "      <th>ISBN</th>\n",
       "      <th>Book-Rating</th>\n",
       "      <th>Book-Title</th>\n",
       "      <th>Book-Author</th>\n",
       "      <th>Year-Of-Publication</th>\n",
       "      <th>Publisher</th>\n",
       "      <th>Image-URL-S</th>\n",
       "      <th>Image-URL-M</th>\n",
       "      <th>Image-URL-L</th>\n",
       "    </tr>\n",
       "  </thead>\n",
       "  <tbody>\n",
       "    <tr>\n",
       "      <th>319</th>\n",
       "      <td>254</td>\n",
       "      <td>minneapolis, minnesota, usa</td>\n",
       "      <td>24.0</td>\n",
       "      <td>0060930535</td>\n",
       "      <td>0</td>\n",
       "      <td>The Poisonwood Bible: A Novel</td>\n",
       "      <td>Barbara Kingsolver</td>\n",
       "      <td>1999</td>\n",
       "      <td>Perennial</td>\n",
       "      <td>http://images.amazon.com/images/P/0060930535.0...</td>\n",
       "      <td>http://images.amazon.com/images/P/0060930535.0...</td>\n",
       "      <td>http://images.amazon.com/images/P/0060930535.0...</td>\n",
       "    </tr>\n",
       "    <tr>\n",
       "      <th>332</th>\n",
       "      <td>254</td>\n",
       "      <td>minneapolis, minnesota, usa</td>\n",
       "      <td>24.0</td>\n",
       "      <td>0062502174</td>\n",
       "      <td>0</td>\n",
       "      <td>The Alchemist: A Fable About Following Your Dream</td>\n",
       "      <td>Paulo Coelho</td>\n",
       "      <td>1993</td>\n",
       "      <td>HarperSanFrancisco</td>\n",
       "      <td>http://images.amazon.com/images/P/0062502174.0...</td>\n",
       "      <td>http://images.amazon.com/images/P/0062502174.0...</td>\n",
       "      <td>http://images.amazon.com/images/P/0062502174.0...</td>\n",
       "    </tr>\n",
       "    <tr>\n",
       "      <th>337</th>\n",
       "      <td>254</td>\n",
       "      <td>minneapolis, minnesota, usa</td>\n",
       "      <td>24.0</td>\n",
       "      <td>014028009X</td>\n",
       "      <td>0</td>\n",
       "      <td>Bridget Jones's Diary</td>\n",
       "      <td>Helen Fielding</td>\n",
       "      <td>1999</td>\n",
       "      <td>Penguin Books</td>\n",
       "      <td>http://images.amazon.com/images/P/014028009X.0...</td>\n",
       "      <td>http://images.amazon.com/images/P/014028009X.0...</td>\n",
       "      <td>http://images.amazon.com/images/P/014028009X.0...</td>\n",
       "    </tr>\n",
       "    <tr>\n",
       "      <th>338</th>\n",
       "      <td>254</td>\n",
       "      <td>minneapolis, minnesota, usa</td>\n",
       "      <td>24.0</td>\n",
       "      <td>0140298479</td>\n",
       "      <td>0</td>\n",
       "      <td>Bridget Jones: The Edge of Reason</td>\n",
       "      <td>Helen Fielding</td>\n",
       "      <td>2001</td>\n",
       "      <td>Penguin Books</td>\n",
       "      <td>http://images.amazon.com/images/P/0140298479.0...</td>\n",
       "      <td>http://images.amazon.com/images/P/0140298479.0...</td>\n",
       "      <td>http://images.amazon.com/images/P/0140298479.0...</td>\n",
       "    </tr>\n",
       "    <tr>\n",
       "      <th>342</th>\n",
       "      <td>254</td>\n",
       "      <td>minneapolis, minnesota, usa</td>\n",
       "      <td>24.0</td>\n",
       "      <td>014100018X</td>\n",
       "      <td>0</td>\n",
       "      <td>Chocolat</td>\n",
       "      <td>Joanne Harris</td>\n",
       "      <td>2000</td>\n",
       "      <td>Penguin Books</td>\n",
       "      <td>http://images.amazon.com/images/P/014100018X.0...</td>\n",
       "      <td>http://images.amazon.com/images/P/014100018X.0...</td>\n",
       "      <td>http://images.amazon.com/images/P/014100018X.0...</td>\n",
       "    </tr>\n",
       "    <tr>\n",
       "      <th>...</th>\n",
       "      <td>...</td>\n",
       "      <td>...</td>\n",
       "      <td>...</td>\n",
       "      <td>...</td>\n",
       "      <td>...</td>\n",
       "      <td>...</td>\n",
       "      <td>...</td>\n",
       "      <td>...</td>\n",
       "      <td>...</td>\n",
       "      <td>...</td>\n",
       "      <td>...</td>\n",
       "      <td>...</td>\n",
       "    </tr>\n",
       "    <tr>\n",
       "      <th>1029815</th>\n",
       "      <td>278418</td>\n",
       "      <td>omaha, nebraska, usa</td>\n",
       "      <td>NaN</td>\n",
       "      <td>0786817070</td>\n",
       "      <td>0</td>\n",
       "      <td>Artemis Fowl (Artemis Fowl, Book 1)</td>\n",
       "      <td>Eoin Colfer</td>\n",
       "      <td>2002</td>\n",
       "      <td>Miramax Kids</td>\n",
       "      <td>http://images.amazon.com/images/P/0786817070.0...</td>\n",
       "      <td>http://images.amazon.com/images/P/0786817070.0...</td>\n",
       "      <td>http://images.amazon.com/images/P/0786817070.0...</td>\n",
       "    </tr>\n",
       "    <tr>\n",
       "      <th>1029827</th>\n",
       "      <td>278418</td>\n",
       "      <td>omaha, nebraska, usa</td>\n",
       "      <td>NaN</td>\n",
       "      <td>0786889020</td>\n",
       "      <td>0</td>\n",
       "      <td>Don't Stand Too Close to a Naked Man</td>\n",
       "      <td>Tim Allen</td>\n",
       "      <td>1995</td>\n",
       "      <td>Hyperion</td>\n",
       "      <td>http://images.amazon.com/images/P/0786889020.0...</td>\n",
       "      <td>http://images.amazon.com/images/P/0786889020.0...</td>\n",
       "      <td>http://images.amazon.com/images/P/0786889020.0...</td>\n",
       "    </tr>\n",
       "    <tr>\n",
       "      <th>1029857</th>\n",
       "      <td>278418</td>\n",
       "      <td>omaha, nebraska, usa</td>\n",
       "      <td>NaN</td>\n",
       "      <td>080410526X</td>\n",
       "      <td>0</td>\n",
       "      <td>All I Really Need to Know</td>\n",
       "      <td>ROBERT FULGHUM</td>\n",
       "      <td>1989</td>\n",
       "      <td>Ivy Books</td>\n",
       "      <td>http://images.amazon.com/images/P/080410526X.0...</td>\n",
       "      <td>http://images.amazon.com/images/P/080410526X.0...</td>\n",
       "      <td>http://images.amazon.com/images/P/080410526X.0...</td>\n",
       "    </tr>\n",
       "    <tr>\n",
       "      <th>1030026</th>\n",
       "      <td>278418</td>\n",
       "      <td>omaha, nebraska, usa</td>\n",
       "      <td>NaN</td>\n",
       "      <td>0821759744</td>\n",
       "      <td>0</td>\n",
       "      <td>Dangerous</td>\n",
       "      <td>Becky Barker</td>\n",
       "      <td>1997</td>\n",
       "      <td>Kensington Publishing Corporation</td>\n",
       "      <td>http://images.amazon.com/images/P/0821759744.0...</td>\n",
       "      <td>http://images.amazon.com/images/P/0821759744.0...</td>\n",
       "      <td>http://images.amazon.com/images/P/0821759744.0...</td>\n",
       "    </tr>\n",
       "    <tr>\n",
       "      <th>1030297</th>\n",
       "      <td>278418</td>\n",
       "      <td>omaha, nebraska, usa</td>\n",
       "      <td>NaN</td>\n",
       "      <td>1559029838</td>\n",
       "      <td>0</td>\n",
       "      <td>Call of the Wild</td>\n",
       "      <td>Jack London</td>\n",
       "      <td>0</td>\n",
       "      <td>Selldowns/no More Orders</td>\n",
       "      <td>http://images.amazon.com/images/P/1559029838.0...</td>\n",
       "      <td>http://images.amazon.com/images/P/1559029838.0...</td>\n",
       "      <td>http://images.amazon.com/images/P/1559029838.0...</td>\n",
       "    </tr>\n",
       "  </tbody>\n",
       "</table>\n",
       "<p>57236 rows × 12 columns</p>\n",
       "</div>"
      ],
      "text/plain": [
       "         User-ID                     Location   Age        ISBN  Book-Rating  \\\n",
       "319          254  minneapolis, minnesota, usa  24.0  0060930535            0   \n",
       "332          254  minneapolis, minnesota, usa  24.0  0062502174            0   \n",
       "337          254  minneapolis, minnesota, usa  24.0  014028009X            0   \n",
       "338          254  minneapolis, minnesota, usa  24.0  0140298479            0   \n",
       "342          254  minneapolis, minnesota, usa  24.0  014100018X            0   \n",
       "...          ...                          ...   ...         ...          ...   \n",
       "1029815   278418         omaha, nebraska, usa   NaN  0786817070            0   \n",
       "1029827   278418         omaha, nebraska, usa   NaN  0786889020            0   \n",
       "1029857   278418         omaha, nebraska, usa   NaN  080410526X            0   \n",
       "1030026   278418         omaha, nebraska, usa   NaN  0821759744            0   \n",
       "1030297   278418         omaha, nebraska, usa   NaN  1559029838            0   \n",
       "\n",
       "                                                Book-Title  \\\n",
       "319                          The Poisonwood Bible: A Novel   \n",
       "332      The Alchemist: A Fable About Following Your Dream   \n",
       "337                                  Bridget Jones's Diary   \n",
       "338                      Bridget Jones: The Edge of Reason   \n",
       "342                                               Chocolat   \n",
       "...                                                    ...   \n",
       "1029815                Artemis Fowl (Artemis Fowl, Book 1)   \n",
       "1029827               Don't Stand Too Close to a Naked Man   \n",
       "1029857                          All I Really Need to Know   \n",
       "1030026                                          Dangerous   \n",
       "1030297                                   Call of the Wild   \n",
       "\n",
       "                Book-Author Year-Of-Publication  \\\n",
       "319      Barbara Kingsolver                1999   \n",
       "332            Paulo Coelho                1993   \n",
       "337          Helen Fielding                1999   \n",
       "338          Helen Fielding                2001   \n",
       "342           Joanne Harris                2000   \n",
       "...                     ...                 ...   \n",
       "1029815         Eoin Colfer                2002   \n",
       "1029827           Tim Allen                1995   \n",
       "1029857      ROBERT FULGHUM                1989   \n",
       "1030026        Becky Barker                1997   \n",
       "1030297         Jack London                   0   \n",
       "\n",
       "                                 Publisher  \\\n",
       "319                              Perennial   \n",
       "332                     HarperSanFrancisco   \n",
       "337                          Penguin Books   \n",
       "338                          Penguin Books   \n",
       "342                          Penguin Books   \n",
       "...                                    ...   \n",
       "1029815                       Miramax Kids   \n",
       "1029827                           Hyperion   \n",
       "1029857                          Ivy Books   \n",
       "1030026  Kensington Publishing Corporation   \n",
       "1030297           Selldowns/no More Orders   \n",
       "\n",
       "                                               Image-URL-S  \\\n",
       "319      http://images.amazon.com/images/P/0060930535.0...   \n",
       "332      http://images.amazon.com/images/P/0062502174.0...   \n",
       "337      http://images.amazon.com/images/P/014028009X.0...   \n",
       "338      http://images.amazon.com/images/P/0140298479.0...   \n",
       "342      http://images.amazon.com/images/P/014100018X.0...   \n",
       "...                                                    ...   \n",
       "1029815  http://images.amazon.com/images/P/0786817070.0...   \n",
       "1029827  http://images.amazon.com/images/P/0786889020.0...   \n",
       "1029857  http://images.amazon.com/images/P/080410526X.0...   \n",
       "1030026  http://images.amazon.com/images/P/0821759744.0...   \n",
       "1030297  http://images.amazon.com/images/P/1559029838.0...   \n",
       "\n",
       "                                               Image-URL-M  \\\n",
       "319      http://images.amazon.com/images/P/0060930535.0...   \n",
       "332      http://images.amazon.com/images/P/0062502174.0...   \n",
       "337      http://images.amazon.com/images/P/014028009X.0...   \n",
       "338      http://images.amazon.com/images/P/0140298479.0...   \n",
       "342      http://images.amazon.com/images/P/014100018X.0...   \n",
       "...                                                    ...   \n",
       "1029815  http://images.amazon.com/images/P/0786817070.0...   \n",
       "1029827  http://images.amazon.com/images/P/0786889020.0...   \n",
       "1029857  http://images.amazon.com/images/P/080410526X.0...   \n",
       "1030026  http://images.amazon.com/images/P/0821759744.0...   \n",
       "1030297  http://images.amazon.com/images/P/1559029838.0...   \n",
       "\n",
       "                                               Image-URL-L  \n",
       "319      http://images.amazon.com/images/P/0060930535.0...  \n",
       "332      http://images.amazon.com/images/P/0062502174.0...  \n",
       "337      http://images.amazon.com/images/P/014028009X.0...  \n",
       "338      http://images.amazon.com/images/P/0140298479.0...  \n",
       "342      http://images.amazon.com/images/P/014100018X.0...  \n",
       "...                                                    ...  \n",
       "1029815  http://images.amazon.com/images/P/0786817070.0...  \n",
       "1029827  http://images.amazon.com/images/P/0786889020.0...  \n",
       "1029857  http://images.amazon.com/images/P/080410526X.0...  \n",
       "1030026  http://images.amazon.com/images/P/0821759744.0...  \n",
       "1030297  http://images.amazon.com/images/P/1559029838.0...  \n",
       "\n",
       "[57236 rows x 12 columns]"
      ]
     },
     "execution_count": 53,
     "metadata": {},
     "output_type": "execute_result"
    }
   ],
   "source": [
    "fina_ratings=df_new[df_new['Book-Title'].isin(famous_books)]\n",
    "fina_ratings"
   ]
  },
  {
   "cell_type": "code",
   "execution_count": 54,
   "id": "ba4caf15",
   "metadata": {
    "execution": {
     "iopub.execute_input": "2024-12-17T07:54:55.717671Z",
     "iopub.status.busy": "2024-12-17T07:54:55.717312Z",
     "iopub.status.idle": "2024-12-17T07:54:55.797992Z",
     "shell.execute_reply": "2024-12-17T07:54:55.796690Z"
    },
    "papermill": {
     "duration": 0.102493,
     "end_time": "2024-12-17T07:54:55.800269",
     "exception": false,
     "start_time": "2024-12-17T07:54:55.697776",
     "status": "completed"
    },
    "tags": []
   },
   "outputs": [
    {
     "data": {
      "text/html": [
       "<div>\n",
       "<style scoped>\n",
       "    .dataframe tbody tr th:only-of-type {\n",
       "        vertical-align: middle;\n",
       "    }\n",
       "\n",
       "    .dataframe tbody tr th {\n",
       "        vertical-align: top;\n",
       "    }\n",
       "\n",
       "    .dataframe thead th {\n",
       "        text-align: right;\n",
       "    }\n",
       "</style>\n",
       "<table border=\"1\" class=\"dataframe\">\n",
       "  <thead>\n",
       "    <tr style=\"text-align: right;\">\n",
       "      <th></th>\n",
       "      <th>User-ID</th>\n",
       "      <th>Location</th>\n",
       "      <th>Age</th>\n",
       "      <th>ISBN</th>\n",
       "      <th>Book-Rating</th>\n",
       "      <th>Book-Title</th>\n",
       "      <th>Book-Author</th>\n",
       "      <th>Year-Of-Publication</th>\n",
       "      <th>Publisher</th>\n",
       "      <th>Image-URL-S</th>\n",
       "      <th>Image-URL-M</th>\n",
       "      <th>Image-URL-L</th>\n",
       "    </tr>\n",
       "  </thead>\n",
       "  <tbody>\n",
       "    <tr>\n",
       "      <th>319</th>\n",
       "      <td>254</td>\n",
       "      <td>minneapolis, minnesota, usa</td>\n",
       "      <td>24.0</td>\n",
       "      <td>0060930535</td>\n",
       "      <td>0</td>\n",
       "      <td>The Poisonwood Bible: A Novel</td>\n",
       "      <td>Barbara Kingsolver</td>\n",
       "      <td>1999</td>\n",
       "      <td>Perennial</td>\n",
       "      <td>http://images.amazon.com/images/P/0060930535.0...</td>\n",
       "      <td>http://images.amazon.com/images/P/0060930535.0...</td>\n",
       "      <td>http://images.amazon.com/images/P/0060930535.0...</td>\n",
       "    </tr>\n",
       "    <tr>\n",
       "      <th>332</th>\n",
       "      <td>254</td>\n",
       "      <td>minneapolis, minnesota, usa</td>\n",
       "      <td>24.0</td>\n",
       "      <td>0062502174</td>\n",
       "      <td>0</td>\n",
       "      <td>The Alchemist: A Fable About Following Your Dream</td>\n",
       "      <td>Paulo Coelho</td>\n",
       "      <td>1993</td>\n",
       "      <td>HarperSanFrancisco</td>\n",
       "      <td>http://images.amazon.com/images/P/0062502174.0...</td>\n",
       "      <td>http://images.amazon.com/images/P/0062502174.0...</td>\n",
       "      <td>http://images.amazon.com/images/P/0062502174.0...</td>\n",
       "    </tr>\n",
       "    <tr>\n",
       "      <th>337</th>\n",
       "      <td>254</td>\n",
       "      <td>minneapolis, minnesota, usa</td>\n",
       "      <td>24.0</td>\n",
       "      <td>014028009X</td>\n",
       "      <td>0</td>\n",
       "      <td>Bridget Jones's Diary</td>\n",
       "      <td>Helen Fielding</td>\n",
       "      <td>1999</td>\n",
       "      <td>Penguin Books</td>\n",
       "      <td>http://images.amazon.com/images/P/014028009X.0...</td>\n",
       "      <td>http://images.amazon.com/images/P/014028009X.0...</td>\n",
       "      <td>http://images.amazon.com/images/P/014028009X.0...</td>\n",
       "    </tr>\n",
       "    <tr>\n",
       "      <th>338</th>\n",
       "      <td>254</td>\n",
       "      <td>minneapolis, minnesota, usa</td>\n",
       "      <td>24.0</td>\n",
       "      <td>0140298479</td>\n",
       "      <td>0</td>\n",
       "      <td>Bridget Jones: The Edge of Reason</td>\n",
       "      <td>Helen Fielding</td>\n",
       "      <td>2001</td>\n",
       "      <td>Penguin Books</td>\n",
       "      <td>http://images.amazon.com/images/P/0140298479.0...</td>\n",
       "      <td>http://images.amazon.com/images/P/0140298479.0...</td>\n",
       "      <td>http://images.amazon.com/images/P/0140298479.0...</td>\n",
       "    </tr>\n",
       "    <tr>\n",
       "      <th>342</th>\n",
       "      <td>254</td>\n",
       "      <td>minneapolis, minnesota, usa</td>\n",
       "      <td>24.0</td>\n",
       "      <td>014100018X</td>\n",
       "      <td>0</td>\n",
       "      <td>Chocolat</td>\n",
       "      <td>Joanne Harris</td>\n",
       "      <td>2000</td>\n",
       "      <td>Penguin Books</td>\n",
       "      <td>http://images.amazon.com/images/P/014100018X.0...</td>\n",
       "      <td>http://images.amazon.com/images/P/014100018X.0...</td>\n",
       "      <td>http://images.amazon.com/images/P/014100018X.0...</td>\n",
       "    </tr>\n",
       "    <tr>\n",
       "      <th>...</th>\n",
       "      <td>...</td>\n",
       "      <td>...</td>\n",
       "      <td>...</td>\n",
       "      <td>...</td>\n",
       "      <td>...</td>\n",
       "      <td>...</td>\n",
       "      <td>...</td>\n",
       "      <td>...</td>\n",
       "      <td>...</td>\n",
       "      <td>...</td>\n",
       "      <td>...</td>\n",
       "      <td>...</td>\n",
       "    </tr>\n",
       "    <tr>\n",
       "      <th>1029815</th>\n",
       "      <td>278418</td>\n",
       "      <td>omaha, nebraska, usa</td>\n",
       "      <td>NaN</td>\n",
       "      <td>0786817070</td>\n",
       "      <td>0</td>\n",
       "      <td>Artemis Fowl (Artemis Fowl, Book 1)</td>\n",
       "      <td>Eoin Colfer</td>\n",
       "      <td>2002</td>\n",
       "      <td>Miramax Kids</td>\n",
       "      <td>http://images.amazon.com/images/P/0786817070.0...</td>\n",
       "      <td>http://images.amazon.com/images/P/0786817070.0...</td>\n",
       "      <td>http://images.amazon.com/images/P/0786817070.0...</td>\n",
       "    </tr>\n",
       "    <tr>\n",
       "      <th>1029827</th>\n",
       "      <td>278418</td>\n",
       "      <td>omaha, nebraska, usa</td>\n",
       "      <td>NaN</td>\n",
       "      <td>0786889020</td>\n",
       "      <td>0</td>\n",
       "      <td>Don't Stand Too Close to a Naked Man</td>\n",
       "      <td>Tim Allen</td>\n",
       "      <td>1995</td>\n",
       "      <td>Hyperion</td>\n",
       "      <td>http://images.amazon.com/images/P/0786889020.0...</td>\n",
       "      <td>http://images.amazon.com/images/P/0786889020.0...</td>\n",
       "      <td>http://images.amazon.com/images/P/0786889020.0...</td>\n",
       "    </tr>\n",
       "    <tr>\n",
       "      <th>1029857</th>\n",
       "      <td>278418</td>\n",
       "      <td>omaha, nebraska, usa</td>\n",
       "      <td>NaN</td>\n",
       "      <td>080410526X</td>\n",
       "      <td>0</td>\n",
       "      <td>All I Really Need to Know</td>\n",
       "      <td>ROBERT FULGHUM</td>\n",
       "      <td>1989</td>\n",
       "      <td>Ivy Books</td>\n",
       "      <td>http://images.amazon.com/images/P/080410526X.0...</td>\n",
       "      <td>http://images.amazon.com/images/P/080410526X.0...</td>\n",
       "      <td>http://images.amazon.com/images/P/080410526X.0...</td>\n",
       "    </tr>\n",
       "    <tr>\n",
       "      <th>1030026</th>\n",
       "      <td>278418</td>\n",
       "      <td>omaha, nebraska, usa</td>\n",
       "      <td>NaN</td>\n",
       "      <td>0821759744</td>\n",
       "      <td>0</td>\n",
       "      <td>Dangerous</td>\n",
       "      <td>Becky Barker</td>\n",
       "      <td>1997</td>\n",
       "      <td>Kensington Publishing Corporation</td>\n",
       "      <td>http://images.amazon.com/images/P/0821759744.0...</td>\n",
       "      <td>http://images.amazon.com/images/P/0821759744.0...</td>\n",
       "      <td>http://images.amazon.com/images/P/0821759744.0...</td>\n",
       "    </tr>\n",
       "    <tr>\n",
       "      <th>1030297</th>\n",
       "      <td>278418</td>\n",
       "      <td>omaha, nebraska, usa</td>\n",
       "      <td>NaN</td>\n",
       "      <td>1559029838</td>\n",
       "      <td>0</td>\n",
       "      <td>Call of the Wild</td>\n",
       "      <td>Jack London</td>\n",
       "      <td>0</td>\n",
       "      <td>Selldowns/no More Orders</td>\n",
       "      <td>http://images.amazon.com/images/P/1559029838.0...</td>\n",
       "      <td>http://images.amazon.com/images/P/1559029838.0...</td>\n",
       "      <td>http://images.amazon.com/images/P/1559029838.0...</td>\n",
       "    </tr>\n",
       "  </tbody>\n",
       "</table>\n",
       "<p>57236 rows × 12 columns</p>\n",
       "</div>"
      ],
      "text/plain": [
       "         User-ID                     Location   Age        ISBN  Book-Rating  \\\n",
       "319          254  minneapolis, minnesota, usa  24.0  0060930535            0   \n",
       "332          254  minneapolis, minnesota, usa  24.0  0062502174            0   \n",
       "337          254  minneapolis, minnesota, usa  24.0  014028009X            0   \n",
       "338          254  minneapolis, minnesota, usa  24.0  0140298479            0   \n",
       "342          254  minneapolis, minnesota, usa  24.0  014100018X            0   \n",
       "...          ...                          ...   ...         ...          ...   \n",
       "1029815   278418         omaha, nebraska, usa   NaN  0786817070            0   \n",
       "1029827   278418         omaha, nebraska, usa   NaN  0786889020            0   \n",
       "1029857   278418         omaha, nebraska, usa   NaN  080410526X            0   \n",
       "1030026   278418         omaha, nebraska, usa   NaN  0821759744            0   \n",
       "1030297   278418         omaha, nebraska, usa   NaN  1559029838            0   \n",
       "\n",
       "                                                Book-Title  \\\n",
       "319                          The Poisonwood Bible: A Novel   \n",
       "332      The Alchemist: A Fable About Following Your Dream   \n",
       "337                                  Bridget Jones's Diary   \n",
       "338                      Bridget Jones: The Edge of Reason   \n",
       "342                                               Chocolat   \n",
       "...                                                    ...   \n",
       "1029815                Artemis Fowl (Artemis Fowl, Book 1)   \n",
       "1029827               Don't Stand Too Close to a Naked Man   \n",
       "1029857                          All I Really Need to Know   \n",
       "1030026                                          Dangerous   \n",
       "1030297                                   Call of the Wild   \n",
       "\n",
       "                Book-Author Year-Of-Publication  \\\n",
       "319      Barbara Kingsolver                1999   \n",
       "332            Paulo Coelho                1993   \n",
       "337          Helen Fielding                1999   \n",
       "338          Helen Fielding                2001   \n",
       "342           Joanne Harris                2000   \n",
       "...                     ...                 ...   \n",
       "1029815         Eoin Colfer                2002   \n",
       "1029827           Tim Allen                1995   \n",
       "1029857      ROBERT FULGHUM                1989   \n",
       "1030026        Becky Barker                1997   \n",
       "1030297         Jack London                   0   \n",
       "\n",
       "                                 Publisher  \\\n",
       "319                              Perennial   \n",
       "332                     HarperSanFrancisco   \n",
       "337                          Penguin Books   \n",
       "338                          Penguin Books   \n",
       "342                          Penguin Books   \n",
       "...                                    ...   \n",
       "1029815                       Miramax Kids   \n",
       "1029827                           Hyperion   \n",
       "1029857                          Ivy Books   \n",
       "1030026  Kensington Publishing Corporation   \n",
       "1030297           Selldowns/no More Orders   \n",
       "\n",
       "                                               Image-URL-S  \\\n",
       "319      http://images.amazon.com/images/P/0060930535.0...   \n",
       "332      http://images.amazon.com/images/P/0062502174.0...   \n",
       "337      http://images.amazon.com/images/P/014028009X.0...   \n",
       "338      http://images.amazon.com/images/P/0140298479.0...   \n",
       "342      http://images.amazon.com/images/P/014100018X.0...   \n",
       "...                                                    ...   \n",
       "1029815  http://images.amazon.com/images/P/0786817070.0...   \n",
       "1029827  http://images.amazon.com/images/P/0786889020.0...   \n",
       "1029857  http://images.amazon.com/images/P/080410526X.0...   \n",
       "1030026  http://images.amazon.com/images/P/0821759744.0...   \n",
       "1030297  http://images.amazon.com/images/P/1559029838.0...   \n",
       "\n",
       "                                               Image-URL-M  \\\n",
       "319      http://images.amazon.com/images/P/0060930535.0...   \n",
       "332      http://images.amazon.com/images/P/0062502174.0...   \n",
       "337      http://images.amazon.com/images/P/014028009X.0...   \n",
       "338      http://images.amazon.com/images/P/0140298479.0...   \n",
       "342      http://images.amazon.com/images/P/014100018X.0...   \n",
       "...                                                    ...   \n",
       "1029815  http://images.amazon.com/images/P/0786817070.0...   \n",
       "1029827  http://images.amazon.com/images/P/0786889020.0...   \n",
       "1029857  http://images.amazon.com/images/P/080410526X.0...   \n",
       "1030026  http://images.amazon.com/images/P/0821759744.0...   \n",
       "1030297  http://images.amazon.com/images/P/1559029838.0...   \n",
       "\n",
       "                                               Image-URL-L  \n",
       "319      http://images.amazon.com/images/P/0060930535.0...  \n",
       "332      http://images.amazon.com/images/P/0062502174.0...  \n",
       "337      http://images.amazon.com/images/P/014028009X.0...  \n",
       "338      http://images.amazon.com/images/P/0140298479.0...  \n",
       "342      http://images.amazon.com/images/P/014100018X.0...  \n",
       "...                                                    ...  \n",
       "1029815  http://images.amazon.com/images/P/0786817070.0...  \n",
       "1029827  http://images.amazon.com/images/P/0786889020.0...  \n",
       "1029857  http://images.amazon.com/images/P/080410526X.0...  \n",
       "1030026  http://images.amazon.com/images/P/0821759744.0...  \n",
       "1030297  http://images.amazon.com/images/P/1559029838.0...  \n",
       "\n",
       "[57236 rows x 12 columns]"
      ]
     },
     "execution_count": 54,
     "metadata": {},
     "output_type": "execute_result"
    }
   ],
   "source": [
    "fina_ratings.drop_duplicates()"
   ]
  },
  {
   "cell_type": "code",
   "execution_count": 55,
   "id": "dfde8d7e",
   "metadata": {
    "execution": {
     "iopub.execute_input": "2024-12-17T07:54:55.840012Z",
     "iopub.status.busy": "2024-12-17T07:54:55.839003Z",
     "iopub.status.idle": "2024-12-17T07:54:55.886195Z",
     "shell.execute_reply": "2024-12-17T07:54:55.884921Z"
    },
    "papermill": {
     "duration": 0.069196,
     "end_time": "2024-12-17T07:54:55.888767",
     "exception": false,
     "start_time": "2024-12-17T07:54:55.819571",
     "status": "completed"
    },
    "tags": []
   },
   "outputs": [],
   "source": [
    "my_table= fina_ratings.pivot_table(index='Book-Title', columns='User-ID', values='Book-Rating')"
   ]
  },
  {
   "cell_type": "code",
   "execution_count": 56,
   "id": "9522adcc",
   "metadata": {
    "execution": {
     "iopub.execute_input": "2024-12-17T07:54:55.926226Z",
     "iopub.status.busy": "2024-12-17T07:54:55.925801Z",
     "iopub.status.idle": "2024-12-17T07:54:55.936984Z",
     "shell.execute_reply": "2024-12-17T07:54:55.935981Z"
    },
    "papermill": {
     "duration": 0.03237,
     "end_time": "2024-12-17T07:54:55.939460",
     "exception": false,
     "start_time": "2024-12-17T07:54:55.907090",
     "status": "completed"
    },
    "tags": []
   },
   "outputs": [],
   "source": [
    "my_table.fillna(0, inplace=True)"
   ]
  },
  {
   "cell_type": "code",
   "execution_count": 57,
   "id": "b3c0a13a",
   "metadata": {
    "execution": {
     "iopub.execute_input": "2024-12-17T07:54:55.976975Z",
     "iopub.status.busy": "2024-12-17T07:54:55.976170Z",
     "iopub.status.idle": "2024-12-17T07:54:56.009947Z",
     "shell.execute_reply": "2024-12-17T07:54:56.008964Z"
    },
    "papermill": {
     "duration": 0.055152,
     "end_time": "2024-12-17T07:54:56.012270",
     "exception": false,
     "start_time": "2024-12-17T07:54:55.957118",
     "status": "completed"
    },
    "tags": []
   },
   "outputs": [
    {
     "data": {
      "text/html": [
       "<div>\n",
       "<style scoped>\n",
       "    .dataframe tbody tr th:only-of-type {\n",
       "        vertical-align: middle;\n",
       "    }\n",
       "\n",
       "    .dataframe tbody tr th {\n",
       "        vertical-align: top;\n",
       "    }\n",
       "\n",
       "    .dataframe thead th {\n",
       "        text-align: right;\n",
       "    }\n",
       "</style>\n",
       "<table border=\"1\" class=\"dataframe\">\n",
       "  <thead>\n",
       "    <tr style=\"text-align: right;\">\n",
       "      <th>User-ID</th>\n",
       "      <th>254</th>\n",
       "      <th>2276</th>\n",
       "      <th>2766</th>\n",
       "      <th>2977</th>\n",
       "      <th>3363</th>\n",
       "      <th>4017</th>\n",
       "      <th>4385</th>\n",
       "      <th>6251</th>\n",
       "      <th>6323</th>\n",
       "      <th>6543</th>\n",
       "      <th>...</th>\n",
       "      <th>271705</th>\n",
       "      <th>273979</th>\n",
       "      <th>274004</th>\n",
       "      <th>274061</th>\n",
       "      <th>274301</th>\n",
       "      <th>274308</th>\n",
       "      <th>275970</th>\n",
       "      <th>277427</th>\n",
       "      <th>277639</th>\n",
       "      <th>278418</th>\n",
       "    </tr>\n",
       "    <tr>\n",
       "      <th>Book-Title</th>\n",
       "      <th></th>\n",
       "      <th></th>\n",
       "      <th></th>\n",
       "      <th></th>\n",
       "      <th></th>\n",
       "      <th></th>\n",
       "      <th></th>\n",
       "      <th></th>\n",
       "      <th></th>\n",
       "      <th></th>\n",
       "      <th></th>\n",
       "      <th></th>\n",
       "      <th></th>\n",
       "      <th></th>\n",
       "      <th></th>\n",
       "      <th></th>\n",
       "      <th></th>\n",
       "      <th></th>\n",
       "      <th></th>\n",
       "      <th></th>\n",
       "      <th></th>\n",
       "    </tr>\n",
       "  </thead>\n",
       "  <tbody>\n",
       "    <tr>\n",
       "      <th>1984</th>\n",
       "      <td>9.0</td>\n",
       "      <td>0.0</td>\n",
       "      <td>0.0</td>\n",
       "      <td>0.0</td>\n",
       "      <td>0.0</td>\n",
       "      <td>0.0</td>\n",
       "      <td>0.0</td>\n",
       "      <td>0.0</td>\n",
       "      <td>0.0</td>\n",
       "      <td>0.0</td>\n",
       "      <td>...</td>\n",
       "      <td>10.0</td>\n",
       "      <td>0.0</td>\n",
       "      <td>0.0</td>\n",
       "      <td>0.0</td>\n",
       "      <td>0.0</td>\n",
       "      <td>0.0</td>\n",
       "      <td>0.0</td>\n",
       "      <td>0.0</td>\n",
       "      <td>0.0</td>\n",
       "      <td>0.0</td>\n",
       "    </tr>\n",
       "    <tr>\n",
       "      <th>1st to Die: A Novel</th>\n",
       "      <td>0.0</td>\n",
       "      <td>0.0</td>\n",
       "      <td>0.0</td>\n",
       "      <td>0.0</td>\n",
       "      <td>0.0</td>\n",
       "      <td>0.0</td>\n",
       "      <td>0.0</td>\n",
       "      <td>0.0</td>\n",
       "      <td>0.0</td>\n",
       "      <td>9.0</td>\n",
       "      <td>...</td>\n",
       "      <td>0.0</td>\n",
       "      <td>0.0</td>\n",
       "      <td>0.0</td>\n",
       "      <td>0.0</td>\n",
       "      <td>0.0</td>\n",
       "      <td>0.0</td>\n",
       "      <td>0.0</td>\n",
       "      <td>0.0</td>\n",
       "      <td>0.0</td>\n",
       "      <td>0.0</td>\n",
       "    </tr>\n",
       "    <tr>\n",
       "      <th>2nd Chance</th>\n",
       "      <td>0.0</td>\n",
       "      <td>10.0</td>\n",
       "      <td>0.0</td>\n",
       "      <td>0.0</td>\n",
       "      <td>0.0</td>\n",
       "      <td>0.0</td>\n",
       "      <td>0.0</td>\n",
       "      <td>0.0</td>\n",
       "      <td>0.0</td>\n",
       "      <td>0.0</td>\n",
       "      <td>...</td>\n",
       "      <td>0.0</td>\n",
       "      <td>0.0</td>\n",
       "      <td>0.0</td>\n",
       "      <td>0.0</td>\n",
       "      <td>0.0</td>\n",
       "      <td>0.0</td>\n",
       "      <td>0.0</td>\n",
       "      <td>0.0</td>\n",
       "      <td>0.0</td>\n",
       "      <td>0.0</td>\n",
       "    </tr>\n",
       "    <tr>\n",
       "      <th>4 Blondes</th>\n",
       "      <td>0.0</td>\n",
       "      <td>0.0</td>\n",
       "      <td>0.0</td>\n",
       "      <td>0.0</td>\n",
       "      <td>0.0</td>\n",
       "      <td>0.0</td>\n",
       "      <td>0.0</td>\n",
       "      <td>0.0</td>\n",
       "      <td>0.0</td>\n",
       "      <td>0.0</td>\n",
       "      <td>...</td>\n",
       "      <td>0.0</td>\n",
       "      <td>0.0</td>\n",
       "      <td>0.0</td>\n",
       "      <td>0.0</td>\n",
       "      <td>0.0</td>\n",
       "      <td>0.0</td>\n",
       "      <td>0.0</td>\n",
       "      <td>0.0</td>\n",
       "      <td>0.0</td>\n",
       "      <td>0.0</td>\n",
       "    </tr>\n",
       "    <tr>\n",
       "      <th>A Bend in the Road</th>\n",
       "      <td>0.0</td>\n",
       "      <td>0.0</td>\n",
       "      <td>7.0</td>\n",
       "      <td>0.0</td>\n",
       "      <td>0.0</td>\n",
       "      <td>0.0</td>\n",
       "      <td>0.0</td>\n",
       "      <td>0.0</td>\n",
       "      <td>0.0</td>\n",
       "      <td>0.0</td>\n",
       "      <td>...</td>\n",
       "      <td>0.0</td>\n",
       "      <td>0.0</td>\n",
       "      <td>0.0</td>\n",
       "      <td>0.0</td>\n",
       "      <td>0.0</td>\n",
       "      <td>0.0</td>\n",
       "      <td>0.0</td>\n",
       "      <td>0.0</td>\n",
       "      <td>0.0</td>\n",
       "      <td>0.0</td>\n",
       "    </tr>\n",
       "    <tr>\n",
       "      <th>...</th>\n",
       "      <td>...</td>\n",
       "      <td>...</td>\n",
       "      <td>...</td>\n",
       "      <td>...</td>\n",
       "      <td>...</td>\n",
       "      <td>...</td>\n",
       "      <td>...</td>\n",
       "      <td>...</td>\n",
       "      <td>...</td>\n",
       "      <td>...</td>\n",
       "      <td>...</td>\n",
       "      <td>...</td>\n",
       "      <td>...</td>\n",
       "      <td>...</td>\n",
       "      <td>...</td>\n",
       "      <td>...</td>\n",
       "      <td>...</td>\n",
       "      <td>...</td>\n",
       "      <td>...</td>\n",
       "      <td>...</td>\n",
       "      <td>...</td>\n",
       "    </tr>\n",
       "    <tr>\n",
       "      <th>Year of Wonders</th>\n",
       "      <td>0.0</td>\n",
       "      <td>0.0</td>\n",
       "      <td>0.0</td>\n",
       "      <td>7.0</td>\n",
       "      <td>0.0</td>\n",
       "      <td>0.0</td>\n",
       "      <td>0.0</td>\n",
       "      <td>0.0</td>\n",
       "      <td>0.0</td>\n",
       "      <td>0.0</td>\n",
       "      <td>...</td>\n",
       "      <td>0.0</td>\n",
       "      <td>9.0</td>\n",
       "      <td>0.0</td>\n",
       "      <td>0.0</td>\n",
       "      <td>0.0</td>\n",
       "      <td>0.0</td>\n",
       "      <td>0.0</td>\n",
       "      <td>0.0</td>\n",
       "      <td>0.0</td>\n",
       "      <td>0.0</td>\n",
       "    </tr>\n",
       "    <tr>\n",
       "      <th>You Belong To Me</th>\n",
       "      <td>0.0</td>\n",
       "      <td>0.0</td>\n",
       "      <td>0.0</td>\n",
       "      <td>0.0</td>\n",
       "      <td>0.0</td>\n",
       "      <td>0.0</td>\n",
       "      <td>0.0</td>\n",
       "      <td>0.0</td>\n",
       "      <td>0.0</td>\n",
       "      <td>0.0</td>\n",
       "      <td>...</td>\n",
       "      <td>0.0</td>\n",
       "      <td>0.0</td>\n",
       "      <td>0.0</td>\n",
       "      <td>0.0</td>\n",
       "      <td>0.0</td>\n",
       "      <td>0.0</td>\n",
       "      <td>0.0</td>\n",
       "      <td>0.0</td>\n",
       "      <td>0.0</td>\n",
       "      <td>0.0</td>\n",
       "    </tr>\n",
       "    <tr>\n",
       "      <th>Zen and the Art of Motorcycle Maintenance: An Inquiry into Values</th>\n",
       "      <td>0.0</td>\n",
       "      <td>0.0</td>\n",
       "      <td>0.0</td>\n",
       "      <td>0.0</td>\n",
       "      <td>0.0</td>\n",
       "      <td>0.0</td>\n",
       "      <td>0.0</td>\n",
       "      <td>0.0</td>\n",
       "      <td>0.0</td>\n",
       "      <td>0.0</td>\n",
       "      <td>...</td>\n",
       "      <td>0.0</td>\n",
       "      <td>0.0</td>\n",
       "      <td>0.0</td>\n",
       "      <td>0.0</td>\n",
       "      <td>0.0</td>\n",
       "      <td>0.0</td>\n",
       "      <td>0.0</td>\n",
       "      <td>0.0</td>\n",
       "      <td>0.0</td>\n",
       "      <td>0.0</td>\n",
       "    </tr>\n",
       "    <tr>\n",
       "      <th>Zoya</th>\n",
       "      <td>0.0</td>\n",
       "      <td>0.0</td>\n",
       "      <td>0.0</td>\n",
       "      <td>0.0</td>\n",
       "      <td>0.0</td>\n",
       "      <td>0.0</td>\n",
       "      <td>0.0</td>\n",
       "      <td>0.0</td>\n",
       "      <td>0.0</td>\n",
       "      <td>0.0</td>\n",
       "      <td>...</td>\n",
       "      <td>0.0</td>\n",
       "      <td>0.0</td>\n",
       "      <td>0.0</td>\n",
       "      <td>0.0</td>\n",
       "      <td>0.0</td>\n",
       "      <td>0.0</td>\n",
       "      <td>0.0</td>\n",
       "      <td>0.0</td>\n",
       "      <td>0.0</td>\n",
       "      <td>0.0</td>\n",
       "    </tr>\n",
       "    <tr>\n",
       "      <th>\\O\\\" Is for Outlaw\"</th>\n",
       "      <td>0.0</td>\n",
       "      <td>0.0</td>\n",
       "      <td>0.0</td>\n",
       "      <td>0.0</td>\n",
       "      <td>0.0</td>\n",
       "      <td>0.0</td>\n",
       "      <td>0.0</td>\n",
       "      <td>0.0</td>\n",
       "      <td>0.0</td>\n",
       "      <td>0.0</td>\n",
       "      <td>...</td>\n",
       "      <td>0.0</td>\n",
       "      <td>0.0</td>\n",
       "      <td>0.0</td>\n",
       "      <td>0.0</td>\n",
       "      <td>8.0</td>\n",
       "      <td>0.0</td>\n",
       "      <td>0.0</td>\n",
       "      <td>0.0</td>\n",
       "      <td>0.0</td>\n",
       "      <td>0.0</td>\n",
       "    </tr>\n",
       "  </tbody>\n",
       "</table>\n",
       "<p>679 rows × 810 columns</p>\n",
       "</div>"
      ],
      "text/plain": [
       "User-ID                                             254     2276    2766    \\\n",
       "Book-Title                                                                   \n",
       "1984                                                   9.0     0.0     0.0   \n",
       "1st to Die: A Novel                                    0.0     0.0     0.0   \n",
       "2nd Chance                                             0.0    10.0     0.0   \n",
       "4 Blondes                                              0.0     0.0     0.0   \n",
       "A Bend in the Road                                     0.0     0.0     7.0   \n",
       "...                                                    ...     ...     ...   \n",
       "Year of Wonders                                        0.0     0.0     0.0   \n",
       "You Belong To Me                                       0.0     0.0     0.0   \n",
       "Zen and the Art of Motorcycle Maintenance: An I...     0.0     0.0     0.0   \n",
       "Zoya                                                   0.0     0.0     0.0   \n",
       "\\O\\\" Is for Outlaw\"                                    0.0     0.0     0.0   \n",
       "\n",
       "User-ID                                             2977    3363    4017    \\\n",
       "Book-Title                                                                   \n",
       "1984                                                   0.0     0.0     0.0   \n",
       "1st to Die: A Novel                                    0.0     0.0     0.0   \n",
       "2nd Chance                                             0.0     0.0     0.0   \n",
       "4 Blondes                                              0.0     0.0     0.0   \n",
       "A Bend in the Road                                     0.0     0.0     0.0   \n",
       "...                                                    ...     ...     ...   \n",
       "Year of Wonders                                        7.0     0.0     0.0   \n",
       "You Belong To Me                                       0.0     0.0     0.0   \n",
       "Zen and the Art of Motorcycle Maintenance: An I...     0.0     0.0     0.0   \n",
       "Zoya                                                   0.0     0.0     0.0   \n",
       "\\O\\\" Is for Outlaw\"                                    0.0     0.0     0.0   \n",
       "\n",
       "User-ID                                             4385    6251    6323    \\\n",
       "Book-Title                                                                   \n",
       "1984                                                   0.0     0.0     0.0   \n",
       "1st to Die: A Novel                                    0.0     0.0     0.0   \n",
       "2nd Chance                                             0.0     0.0     0.0   \n",
       "4 Blondes                                              0.0     0.0     0.0   \n",
       "A Bend in the Road                                     0.0     0.0     0.0   \n",
       "...                                                    ...     ...     ...   \n",
       "Year of Wonders                                        0.0     0.0     0.0   \n",
       "You Belong To Me                                       0.0     0.0     0.0   \n",
       "Zen and the Art of Motorcycle Maintenance: An I...     0.0     0.0     0.0   \n",
       "Zoya                                                   0.0     0.0     0.0   \n",
       "\\O\\\" Is for Outlaw\"                                    0.0     0.0     0.0   \n",
       "\n",
       "User-ID                                             6543    ...  271705  \\\n",
       "Book-Title                                                  ...           \n",
       "1984                                                   0.0  ...    10.0   \n",
       "1st to Die: A Novel                                    9.0  ...     0.0   \n",
       "2nd Chance                                             0.0  ...     0.0   \n",
       "4 Blondes                                              0.0  ...     0.0   \n",
       "A Bend in the Road                                     0.0  ...     0.0   \n",
       "...                                                    ...  ...     ...   \n",
       "Year of Wonders                                        0.0  ...     0.0   \n",
       "You Belong To Me                                       0.0  ...     0.0   \n",
       "Zen and the Art of Motorcycle Maintenance: An I...     0.0  ...     0.0   \n",
       "Zoya                                                   0.0  ...     0.0   \n",
       "\\O\\\" Is for Outlaw\"                                    0.0  ...     0.0   \n",
       "\n",
       "User-ID                                             273979  274004  274061  \\\n",
       "Book-Title                                                                   \n",
       "1984                                                   0.0     0.0     0.0   \n",
       "1st to Die: A Novel                                    0.0     0.0     0.0   \n",
       "2nd Chance                                             0.0     0.0     0.0   \n",
       "4 Blondes                                              0.0     0.0     0.0   \n",
       "A Bend in the Road                                     0.0     0.0     0.0   \n",
       "...                                                    ...     ...     ...   \n",
       "Year of Wonders                                        9.0     0.0     0.0   \n",
       "You Belong To Me                                       0.0     0.0     0.0   \n",
       "Zen and the Art of Motorcycle Maintenance: An I...     0.0     0.0     0.0   \n",
       "Zoya                                                   0.0     0.0     0.0   \n",
       "\\O\\\" Is for Outlaw\"                                    0.0     0.0     0.0   \n",
       "\n",
       "User-ID                                             274301  274308  275970  \\\n",
       "Book-Title                                                                   \n",
       "1984                                                   0.0     0.0     0.0   \n",
       "1st to Die: A Novel                                    0.0     0.0     0.0   \n",
       "2nd Chance                                             0.0     0.0     0.0   \n",
       "4 Blondes                                              0.0     0.0     0.0   \n",
       "A Bend in the Road                                     0.0     0.0     0.0   \n",
       "...                                                    ...     ...     ...   \n",
       "Year of Wonders                                        0.0     0.0     0.0   \n",
       "You Belong To Me                                       0.0     0.0     0.0   \n",
       "Zen and the Art of Motorcycle Maintenance: An I...     0.0     0.0     0.0   \n",
       "Zoya                                                   0.0     0.0     0.0   \n",
       "\\O\\\" Is for Outlaw\"                                    8.0     0.0     0.0   \n",
       "\n",
       "User-ID                                             277427  277639  278418  \n",
       "Book-Title                                                                  \n",
       "1984                                                   0.0     0.0     0.0  \n",
       "1st to Die: A Novel                                    0.0     0.0     0.0  \n",
       "2nd Chance                                             0.0     0.0     0.0  \n",
       "4 Blondes                                              0.0     0.0     0.0  \n",
       "A Bend in the Road                                     0.0     0.0     0.0  \n",
       "...                                                    ...     ...     ...  \n",
       "Year of Wonders                                        0.0     0.0     0.0  \n",
       "You Belong To Me                                       0.0     0.0     0.0  \n",
       "Zen and the Art of Motorcycle Maintenance: An I...     0.0     0.0     0.0  \n",
       "Zoya                                                   0.0     0.0     0.0  \n",
       "\\O\\\" Is for Outlaw\"                                    0.0     0.0     0.0  \n",
       "\n",
       "[679 rows x 810 columns]"
      ]
     },
     "execution_count": 57,
     "metadata": {},
     "output_type": "execute_result"
    }
   ],
   "source": [
    "my_table  # collabration table is ready"
   ]
  },
  {
   "cell_type": "code",
   "execution_count": 58,
   "id": "caa8190c",
   "metadata": {
    "execution": {
     "iopub.execute_input": "2024-12-17T07:54:56.049994Z",
     "iopub.status.busy": "2024-12-17T07:54:56.049577Z",
     "iopub.status.idle": "2024-12-17T07:54:56.322266Z",
     "shell.execute_reply": "2024-12-17T07:54:56.321152Z"
    },
    "papermill": {
     "duration": 0.294289,
     "end_time": "2024-12-17T07:54:56.324643",
     "exception": false,
     "start_time": "2024-12-17T07:54:56.030354",
     "status": "completed"
    },
    "tags": []
   },
   "outputs": [],
   "source": [
    "from sklearn.metrics.pairwise import cosine_similarity"
   ]
  },
  {
   "cell_type": "code",
   "execution_count": 59,
   "id": "3d78ef59",
   "metadata": {
    "execution": {
     "iopub.execute_input": "2024-12-17T07:54:56.362620Z",
     "iopub.status.busy": "2024-12-17T07:54:56.362209Z",
     "iopub.status.idle": "2024-12-17T07:54:56.397741Z",
     "shell.execute_reply": "2024-12-17T07:54:56.396297Z"
    },
    "papermill": {
     "duration": 0.059544,
     "end_time": "2024-12-17T07:54:56.402276",
     "exception": false,
     "start_time": "2024-12-17T07:54:56.342732",
     "status": "completed"
    },
    "tags": []
   },
   "outputs": [
    {
     "data": {
      "text/plain": [
       "array([[1.        , 0.10255025, 0.01220856, ..., 0.12110367, 0.07347567,\n",
       "        0.04316046],\n",
       "       [0.10255025, 1.        , 0.2364573 , ..., 0.07446129, 0.16773875,\n",
       "        0.14263397],\n",
       "       [0.01220856, 0.2364573 , 1.        , ..., 0.04558758, 0.04938579,\n",
       "        0.10796119],\n",
       "       ...,\n",
       "       [0.12110367, 0.07446129, 0.04558758, ..., 1.        , 0.07085128,\n",
       "        0.0196177 ],\n",
       "       [0.07347567, 0.16773875, 0.04938579, ..., 0.07085128, 1.        ,\n",
       "        0.10602962],\n",
       "       [0.04316046, 0.14263397, 0.10796119, ..., 0.0196177 , 0.10602962,\n",
       "        1.        ]])"
      ]
     },
     "execution_count": 59,
     "metadata": {},
     "output_type": "execute_result"
    }
   ],
   "source": [
    "similarity_score= cosine_similarity(my_table)\n",
    "similarity_score"
   ]
  },
  {
   "cell_type": "code",
   "execution_count": 60,
   "id": "1fbc9850",
   "metadata": {
    "execution": {
     "iopub.execute_input": "2024-12-17T07:54:56.509336Z",
     "iopub.status.busy": "2024-12-17T07:54:56.508550Z",
     "iopub.status.idle": "2024-12-17T07:54:56.514971Z",
     "shell.execute_reply": "2024-12-17T07:54:56.513926Z"
    },
    "papermill": {
     "duration": 0.06136,
     "end_time": "2024-12-17T07:54:56.517220",
     "exception": false,
     "start_time": "2024-12-17T07:54:56.455860",
     "status": "completed"
    },
    "tags": []
   },
   "outputs": [
    {
     "data": {
      "text/plain": [
       "(679, 679)"
      ]
     },
     "execution_count": 60,
     "metadata": {},
     "output_type": "execute_result"
    }
   ],
   "source": [
    "similarity_score.shape"
   ]
  },
  {
   "cell_type": "code",
   "execution_count": 61,
   "id": "aa5a9297",
   "metadata": {
    "execution": {
     "iopub.execute_input": "2024-12-17T07:54:56.612046Z",
     "iopub.status.busy": "2024-12-17T07:54:56.611613Z",
     "iopub.status.idle": "2024-12-17T07:54:56.618977Z",
     "shell.execute_reply": "2024-12-17T07:54:56.617939Z"
    },
    "papermill": {
     "duration": 0.084729,
     "end_time": "2024-12-17T07:54:56.621114",
     "exception": false,
     "start_time": "2024-12-17T07:54:56.536385",
     "status": "completed"
    },
    "tags": []
   },
   "outputs": [
    {
     "data": {
      "text/plain": [
       "677"
      ]
     },
     "execution_count": 61,
     "metadata": {},
     "output_type": "execute_result"
    }
   ],
   "source": [
    "#index calculation\n",
    "index123 =np.where(my_table.index =='Zoya')[0][0]\n",
    "index123"
   ]
  },
  {
   "cell_type": "code",
   "execution_count": 62,
   "id": "3e9dd826",
   "metadata": {
    "execution": {
     "iopub.execute_input": "2024-12-17T07:54:56.659182Z",
     "iopub.status.busy": "2024-12-17T07:54:56.658767Z",
     "iopub.status.idle": "2024-12-17T07:54:56.666829Z",
     "shell.execute_reply": "2024-12-17T07:54:56.665602Z"
    },
    "papermill": {
     "duration": 0.029712,
     "end_time": "2024-12-17T07:54:56.669094",
     "exception": false,
     "start_time": "2024-12-17T07:54:56.639382",
     "status": "completed"
    },
    "tags": []
   },
   "outputs": [
    {
     "data": {
      "text/plain": [
       "[(187, 0.6188332046777835),\n",
       " (409, 0.5423917439488084),\n",
       " (278, 0.4536936187776783),\n",
       " (168, 0.43416881684252095),\n",
       " (189, 0.43104197190280946)]"
      ]
     },
     "execution_count": 62,
     "metadata": {},
     "output_type": "execute_result"
    }
   ],
   "source": [
    "sorted(list(enumerate(similarity_score[index123])),key= lambda l: l[1], reverse=True)[1:6] # sort on the basis of second col, i.e. rating col, \n",
    "#pick top 5 excluding the index123 item"
   ]
  },
  {
   "cell_type": "code",
   "execution_count": 63,
   "id": "087ed63d",
   "metadata": {
    "execution": {
     "iopub.execute_input": "2024-12-17T07:54:56.708259Z",
     "iopub.status.busy": "2024-12-17T07:54:56.707331Z",
     "iopub.status.idle": "2024-12-17T07:54:56.713508Z",
     "shell.execute_reply": "2024-12-17T07:54:56.712423Z"
    },
    "papermill": {
     "duration": 0.028036,
     "end_time": "2024-12-17T07:54:56.715641",
     "exception": false,
     "start_time": "2024-12-17T07:54:56.687605",
     "status": "completed"
    },
    "tags": []
   },
   "outputs": [],
   "source": [
    "def recommend(book_name):\n",
    "    # fetch book index\n",
    "    book_index=np.where(my_table.index == book_name)[0][0]\n",
    "    print(f'book index - {book_index}')    \n",
    "    # find similar score book\n",
    "    similar_item_list = sorted(list(enumerate(similarity_score[book_index])),key= lambda p: p[1], reverse=True)[1:6]    \n",
    "    for i in similar_item_list:\n",
    "        print(my_table.index[i[0]])\n",
    "\n"
   ]
  },
  {
   "cell_type": "code",
   "execution_count": 64,
   "id": "41d4fbce",
   "metadata": {
    "execution": {
     "iopub.execute_input": "2024-12-17T07:54:56.755646Z",
     "iopub.status.busy": "2024-12-17T07:54:56.755273Z",
     "iopub.status.idle": "2024-12-17T07:54:56.761565Z",
     "shell.execute_reply": "2024-12-17T07:54:56.760524Z"
    },
    "papermill": {
     "duration": 0.028091,
     "end_time": "2024-12-17T07:54:56.763678",
     "exception": false,
     "start_time": "2024-12-17T07:54:56.735587",
     "status": "completed"
    },
    "tags": []
   },
   "outputs": [
    {
     "name": "stdout",
     "output_type": "stream",
     "text": [
      "book index - 221\n",
      "Harry Potter and the Goblet of Fire (Book 4)\n",
      "Harry Potter and the Chamber of Secrets (Book 2)\n",
      "Harry Potter and the Order of the Phoenix (Book 5)\n",
      "Harry Potter and the Sorcerer's Stone (Book 1)\n",
      "Harry Potter and the Sorcerer's Stone (Harry Potter (Paperback))\n"
     ]
    }
   ],
   "source": [
    "recommend('Harry Potter and the Prisoner of Azkaban (Book 3)')"
   ]
  },
  {
   "cell_type": "code",
   "execution_count": null,
   "id": "2ed62a22",
   "metadata": {
    "papermill": {
     "duration": 0.018368,
     "end_time": "2024-12-17T07:54:56.800811",
     "exception": false,
     "start_time": "2024-12-17T07:54:56.782443",
     "status": "completed"
    },
    "tags": []
   },
   "outputs": [],
   "source": []
  }
 ],
 "metadata": {
  "kaggle": {
   "accelerator": "none",
   "dataSources": [
    {
     "datasetId": 1004280,
     "sourceId": 7595263,
     "sourceType": "datasetVersion"
    }
   ],
   "dockerImageVersionId": 30804,
   "isGpuEnabled": false,
   "isInternetEnabled": false,
   "language": "python",
   "sourceType": "notebook"
  },
  "kernelspec": {
   "display_name": "Python 3",
   "language": "python",
   "name": "python3"
  },
  "language_info": {
   "codemirror_mode": {
    "name": "ipython",
    "version": 3
   },
   "file_extension": ".py",
   "mimetype": "text/x-python",
   "name": "python",
   "nbconvert_exporter": "python",
   "pygments_lexer": "ipython3",
   "version": "3.10.14"
  },
  "papermill": {
   "default_parameters": {},
   "duration": 36.528376,
   "end_time": "2024-12-17T07:54:57.842855",
   "environment_variables": {},
   "exception": null,
   "input_path": "__notebook__.ipynb",
   "output_path": "__notebook__.ipynb",
   "parameters": {},
   "start_time": "2024-12-17T07:54:21.314479",
   "version": "2.6.0"
  }
 },
 "nbformat": 4,
 "nbformat_minor": 5
}
